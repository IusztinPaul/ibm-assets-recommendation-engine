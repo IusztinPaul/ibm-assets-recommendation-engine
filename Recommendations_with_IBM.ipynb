{
 "cells": [
  {
   "cell_type": "code",
   "execution_count": 1,
   "outputs": [],
   "source": [
    "import nltk\n",
    "import numpy as np\n",
    "import matplotlib.pyplot as plt\n",
    "import pandas as pd\n",
    "import re\n",
    "\n",
    "from nltk.corpus import stopwords\n",
    "from nltk.stem.wordnet import WordNetLemmatizer\n",
    "from nltk.tokenize import word_tokenize\n",
    "from typing import Tuple\n",
    "from sklearn.feature_extraction.text import CountVectorizer\n",
    "\n",
    "import project_tests as t"
   ],
   "metadata": {
    "collapsed": false,
    "pycharm": {
     "name": "#%%\n"
    }
   }
  },
  {
   "cell_type": "code",
   "execution_count": 2,
   "outputs": [
    {
     "name": "stderr",
     "output_type": "stream",
     "text": [
      "[nltk_data] Downloading package punkt to /home/iusztin/nltk_data...\n",
      "[nltk_data]   Package punkt is already up-to-date!\n",
      "[nltk_data] Downloading package wordnet to /home/iusztin/nltk_data...\n",
      "[nltk_data]   Package wordnet is already up-to-date!\n",
      "[nltk_data] Downloading package stopwords to\n",
      "[nltk_data]     /home/iusztin/nltk_data...\n",
      "[nltk_data]   Package stopwords is already up-to-date!\n",
      "[nltk_data] Downloading package averaged_perceptron_tagger to\n",
      "[nltk_data]     /home/iusztin/nltk_data...\n",
      "[nltk_data]   Package averaged_perceptron_tagger is already up-to-\n",
      "[nltk_data]       date!\n"
     ]
    },
    {
     "data": {
      "text/plain": "True"
     },
     "execution_count": 2,
     "metadata": {},
     "output_type": "execute_result"
    }
   ],
   "source": [
    "nltk.download(['punkt', 'wordnet', 'stopwords', 'averaged_perceptron_tagger'])"
   ],
   "metadata": {
    "collapsed": false,
    "pycharm": {
     "name": "#%%\n"
    }
   }
  },
  {
   "cell_type": "code",
   "execution_count": 3,
   "metadata": {
    "collapsed": true,
    "pycharm": {
     "name": "#%%\n"
    }
   },
   "outputs": [],
   "source": [
    "df = pd.read_csv('data/user-item-interactions.csv')\n",
    "df_content = pd.read_csv('data/articles_community.csv')\n",
    "\n",
    "del df['Unnamed: 0']\n",
    "del df_content['Unnamed: 0']"
   ]
  },
  {
   "cell_type": "code",
   "execution_count": 4,
   "metadata": {
    "pycharm": {
     "name": "#%%\n"
    }
   },
   "outputs": [],
   "source": [
    "def normalize_article_id_name(article_id):\n",
    "    return str(float(article_id))\n",
    "\n",
    "\n",
    "# Normalize the article_id as a string representation of a float number. The rest of the notebook excepts it in this format.\n",
    "df[\"article_id\"] = df[\"article_id\"].transform(normalize_article_id_name)\n",
    "df_content[\"article_id\"] = df_content[\"article_id\"].transform(normalize_article_id_name)"
   ]
  },
  {
   "cell_type": "code",
   "execution_count": 5,
   "metadata": {
    "pycharm": {
     "name": "#%%\n"
    }
   },
   "outputs": [
    {
     "data": {
      "text/plain": "  article_id                                              title  \\\n0     1430.0  using pixiedust for fast, flexible, and easier...   \n1     1314.0       healthcare python streaming application demo   \n2     1429.0         use deep learning for image classification   \n3     1338.0          ml optimization using cognitive assistant   \n4     1276.0          deploy your python model as a restful api   \n\n                                      email  \n0  ef5f11f77ba020cd36e1105a00ab868bbdbf7fe7  \n1  083cbdfa93c8444beaa4c5f5e0f5f9198e4f9e0b  \n2  b96a4f2e92d8572034b1e9b28f9ac673765cd074  \n3  06485706b34a5c9bf2a0ecdac41daf7e7654ceb7  \n4  f01220c46fc92c6e6b161b1849de11faacd7ccb2  ",
      "text/html": "<div>\n<style scoped>\n    .dataframe tbody tr th:only-of-type {\n        vertical-align: middle;\n    }\n\n    .dataframe tbody tr th {\n        vertical-align: top;\n    }\n\n    .dataframe thead th {\n        text-align: right;\n    }\n</style>\n<table border=\"1\" class=\"dataframe\">\n  <thead>\n    <tr style=\"text-align: right;\">\n      <th></th>\n      <th>article_id</th>\n      <th>title</th>\n      <th>email</th>\n    </tr>\n  </thead>\n  <tbody>\n    <tr>\n      <th>0</th>\n      <td>1430.0</td>\n      <td>using pixiedust for fast, flexible, and easier...</td>\n      <td>ef5f11f77ba020cd36e1105a00ab868bbdbf7fe7</td>\n    </tr>\n    <tr>\n      <th>1</th>\n      <td>1314.0</td>\n      <td>healthcare python streaming application demo</td>\n      <td>083cbdfa93c8444beaa4c5f5e0f5f9198e4f9e0b</td>\n    </tr>\n    <tr>\n      <th>2</th>\n      <td>1429.0</td>\n      <td>use deep learning for image classification</td>\n      <td>b96a4f2e92d8572034b1e9b28f9ac673765cd074</td>\n    </tr>\n    <tr>\n      <th>3</th>\n      <td>1338.0</td>\n      <td>ml optimization using cognitive assistant</td>\n      <td>06485706b34a5c9bf2a0ecdac41daf7e7654ceb7</td>\n    </tr>\n    <tr>\n      <th>4</th>\n      <td>1276.0</td>\n      <td>deploy your python model as a restful api</td>\n      <td>f01220c46fc92c6e6b161b1849de11faacd7ccb2</td>\n    </tr>\n  </tbody>\n</table>\n</div>"
     },
     "execution_count": 5,
     "metadata": {},
     "output_type": "execute_result"
    }
   ],
   "source": [
    "# Show df to get an idea of the data\n",
    "df.head()"
   ]
  },
  {
   "cell_type": "code",
   "execution_count": 6,
   "metadata": {
    "pycharm": {
     "name": "#%%\n"
    }
   },
   "outputs": [
    {
     "name": "stdout",
     "output_type": "stream",
     "text": [
      "<class 'pandas.core.frame.DataFrame'>\n",
      "RangeIndex: 45993 entries, 0 to 45992\n",
      "Data columns (total 3 columns):\n",
      " #   Column      Non-Null Count  Dtype \n",
      "---  ------      --------------  ----- \n",
      " 0   article_id  45993 non-null  object\n",
      " 1   title       45993 non-null  object\n",
      " 2   email       45976 non-null  object\n",
      "dtypes: object(3)\n",
      "memory usage: 1.1+ MB\n"
     ]
    }
   ],
   "source": [
    "df.info()"
   ]
  },
  {
   "cell_type": "code",
   "execution_count": 7,
   "metadata": {
    "collapsed": true,
    "pycharm": {
     "name": "#%%\n"
    }
   },
   "outputs": [
    {
     "data": {
      "text/plain": "                                            doc_body  \\\n0  Skip navigation Sign in SearchLoading...\\r\\n\\r...   \n1  No Free Hunch Navigation * kaggle.com\\r\\n\\r\\n ...   \n2  ☰ * Login\\r\\n * Sign Up\\r\\n\\r\\n * Learning Pat...   \n3  DATALAYER: HIGH THROUGHPUT, LOW LATENCY AT SCA...   \n4  Skip navigation Sign in SearchLoading...\\r\\n\\r...   \n\n                                     doc_description  \\\n0  Detect bad readings in real time using Python ...   \n1  See the forest, see the trees. Here lies the c...   \n2  Here’s this week’s news in Data Science and Bi...   \n3  Learn how distributed DBs solve the problem of...   \n4  This video demonstrates the power of IBM DataS...   \n\n                                       doc_full_name doc_status article_id  \n0  Detect Malfunctioning IoT Sensors with Streami...       Live        0.0  \n1  Communicating data science: A guide to present...       Live        1.0  \n2         This Week in Data Science (April 18, 2017)       Live        2.0  \n3  DataLayer Conference: Boost the performance of...       Live        3.0  \n4      Analyze NY Restaurant data using Spark in DSX       Live        4.0  ",
      "text/html": "<div>\n<style scoped>\n    .dataframe tbody tr th:only-of-type {\n        vertical-align: middle;\n    }\n\n    .dataframe tbody tr th {\n        vertical-align: top;\n    }\n\n    .dataframe thead th {\n        text-align: right;\n    }\n</style>\n<table border=\"1\" class=\"dataframe\">\n  <thead>\n    <tr style=\"text-align: right;\">\n      <th></th>\n      <th>doc_body</th>\n      <th>doc_description</th>\n      <th>doc_full_name</th>\n      <th>doc_status</th>\n      <th>article_id</th>\n    </tr>\n  </thead>\n  <tbody>\n    <tr>\n      <th>0</th>\n      <td>Skip navigation Sign in SearchLoading...\\r\\n\\r...</td>\n      <td>Detect bad readings in real time using Python ...</td>\n      <td>Detect Malfunctioning IoT Sensors with Streami...</td>\n      <td>Live</td>\n      <td>0.0</td>\n    </tr>\n    <tr>\n      <th>1</th>\n      <td>No Free Hunch Navigation * kaggle.com\\r\\n\\r\\n ...</td>\n      <td>See the forest, see the trees. Here lies the c...</td>\n      <td>Communicating data science: A guide to present...</td>\n      <td>Live</td>\n      <td>1.0</td>\n    </tr>\n    <tr>\n      <th>2</th>\n      <td>☰ * Login\\r\\n * Sign Up\\r\\n\\r\\n * Learning Pat...</td>\n      <td>Here’s this week’s news in Data Science and Bi...</td>\n      <td>This Week in Data Science (April 18, 2017)</td>\n      <td>Live</td>\n      <td>2.0</td>\n    </tr>\n    <tr>\n      <th>3</th>\n      <td>DATALAYER: HIGH THROUGHPUT, LOW LATENCY AT SCA...</td>\n      <td>Learn how distributed DBs solve the problem of...</td>\n      <td>DataLayer Conference: Boost the performance of...</td>\n      <td>Live</td>\n      <td>3.0</td>\n    </tr>\n    <tr>\n      <th>4</th>\n      <td>Skip navigation Sign in SearchLoading...\\r\\n\\r...</td>\n      <td>This video demonstrates the power of IBM DataS...</td>\n      <td>Analyze NY Restaurant data using Spark in DSX</td>\n      <td>Live</td>\n      <td>4.0</td>\n    </tr>\n  </tbody>\n</table>\n</div>"
     },
     "execution_count": 7,
     "metadata": {},
     "output_type": "execute_result"
    }
   ],
   "source": [
    "# Show df_content to get an idea of the data\n",
    "df_content.head()"
   ]
  },
  {
   "cell_type": "code",
   "execution_count": 8,
   "metadata": {
    "pycharm": {
     "name": "#%%\n"
    }
   },
   "outputs": [
    {
     "name": "stdout",
     "output_type": "stream",
     "text": [
      "<class 'pandas.core.frame.DataFrame'>\n",
      "RangeIndex: 1056 entries, 0 to 1055\n",
      "Data columns (total 5 columns):\n",
      " #   Column           Non-Null Count  Dtype \n",
      "---  ------           --------------  ----- \n",
      " 0   doc_body         1042 non-null   object\n",
      " 1   doc_description  1053 non-null   object\n",
      " 2   doc_full_name    1056 non-null   object\n",
      " 3   doc_status       1056 non-null   object\n",
      " 4   article_id       1056 non-null   object\n",
      "dtypes: object(5)\n",
      "memory usage: 41.4+ KB\n"
     ]
    }
   ],
   "source": [
    "df_content.info()"
   ]
  },
  {
   "cell_type": "markdown",
   "metadata": {
    "pycharm": {
     "name": "#%% md\n"
    }
   },
   "source": [
    "### <a class=\"anchor\" id=\"Exploratory-Data-Analysis\">Part I : Exploratory Data Analysis</a>\n",
    "\n",
    "Use the dictionary and cells below to provide some insight into the descriptive statistics of the data.\n",
    "\n",
    "`1.` What is the distribution of how many articles a user interacts with in the dataset?  Provide a visual and descriptive statistics to assist with giving a look at the number of times each user interacts with an article."
   ]
  },
  {
   "cell_type": "code",
   "execution_count": 9,
   "metadata": {
    "collapsed": true,
    "pycharm": {
     "name": "#%%\n"
    }
   },
   "outputs": [
    {
     "name": "stdout",
     "output_type": "stream",
     "text": [
      "<class 'pandas.core.frame.DataFrame'>\n",
      "RangeIndex: 45993 entries, 0 to 45992\n",
      "Data columns (total 3 columns):\n",
      " #   Column      Non-Null Count  Dtype \n",
      "---  ------      --------------  ----- \n",
      " 0   article_id  45993 non-null  object\n",
      " 1   title       45993 non-null  object\n",
      " 2   email       45993 non-null  object\n",
      "dtypes: object(3)\n",
      "memory usage: 1.1+ MB\n"
     ]
    }
   ],
   "source": [
    "filled_na_df = df.copy()\n",
    "filled_na_df[\"email\"] = filled_na_df[\"email\"].fillna(\"unknown\")\n",
    "filled_na_df.info()"
   ]
  },
  {
   "cell_type": "code",
   "execution_count": 10,
   "metadata": {
    "pycharm": {
     "name": "#%%\n"
    }
   },
   "outputs": [
    {
     "data": {
      "text/plain": "email\n0000b6387a0366322d7fbfc6434af145adf7fed1    13\n001055fc0bb67f71e8fa17002342b256a30254cd     4\n00148e4911c7e04eeff8def7bbbdaf1c59c2c621     3\n001a852ecbd6cc12ab77a785efa137b2646505fe     6\n001fc95b90da5c3cb12c501d201a915e4f093290     2\n                                            ..\nffc96f8fbb35aac4cb0029332b0fc78e7766bb5d     4\nffe3d0543c9046d35c2ee3724ea9d774dff98a32    32\nfff9fc3ec67bd18ed57a34ed1e67410942c4cd81    10\nfffb93a166547448a0ff0232558118d59395fecd    13\nunknown                                     17\nName: num_articles, Length: 5149, dtype: int64"
     },
     "execution_count": 10,
     "metadata": {},
     "output_type": "execute_result"
    }
   ],
   "source": [
    "user_num_articles_series = filled_na_df.groupby(\"email\")[\"article_id\"].count().rename(\"num_articles\")\n",
    "user_num_articles_series"
   ]
  },
  {
   "cell_type": "code",
   "execution_count": 11,
   "metadata": {
    "pycharm": {
     "name": "#%%\n"
    }
   },
   "outputs": [
    {
     "data": {
      "text/plain": "17"
     },
     "execution_count": 11,
     "metadata": {},
     "output_type": "execute_result"
    }
   ],
   "source": [
    "user_num_articles_series[\"unknown\"]"
   ]
  },
  {
   "cell_type": "code",
   "execution_count": 12,
   "metadata": {
    "pycharm": {
     "name": "#%%\n"
    }
   },
   "outputs": [
    {
     "data": {
      "text/plain": "count    5149.000000\nmean        8.932414\nstd        16.801011\nmin         1.000000\n25%         1.000000\n50%         3.000000\n75%         9.000000\nmax       364.000000\nName: num_articles, dtype: float64"
     },
     "execution_count": 12,
     "metadata": {},
     "output_type": "execute_result"
    }
   ],
   "source": [
    "user_num_articles_series.describe()"
   ]
  },
  {
   "cell_type": "code",
   "execution_count": 13,
   "metadata": {
    "pycharm": {
     "name": "#%%\n"
    }
   },
   "outputs": [
    {
     "data": {
      "text/plain": "<Figure size 432x288 with 1 Axes>",
      "image/png": "[encoded data removed]"
     },
     "metadata": {
      "needs_background": "light"
     },
     "output_type": "display_data"
    }
   ],
   "source": [
    "user_num_articles_series.plot.hist();"
   ]
  },
  {
   "cell_type": "code",
   "execution_count": 14,
   "metadata": {
    "collapsed": true,
    "pycharm": {
     "name": "#%%\n"
    }
   },
   "outputs": [],
   "source": [
    "# Fill in the median and maximum number of user_article interactios below\n",
    "\n",
    "median_val = user_num_articles_series.median()\n",
    "max_views_by_user = user_num_articles_series.max()"
   ]
  },
  {
   "cell_type": "markdown",
   "metadata": {
    "pycharm": {
     "name": "#%% md\n"
    }
   },
   "source": [
    "`2.` Explore and remove duplicate articles from the **df_content** dataframe."
   ]
  },
  {
   "cell_type": "code",
   "execution_count": 15,
   "metadata": {
    "pycharm": {
     "name": "#%%\n"
    }
   },
   "outputs": [
    {
     "data": {
      "text/plain": "                                            doc_body  \\\n0  Skip navigation Sign in SearchLoading...\\r\\n\\r...   \n1  No Free Hunch Navigation * kaggle.com\\r\\n\\r\\n ...   \n2  ☰ * Login\\r\\n * Sign Up\\r\\n\\r\\n * Learning Pat...   \n3  DATALAYER: HIGH THROUGHPUT, LOW LATENCY AT SCA...   \n4  Skip navigation Sign in SearchLoading...\\r\\n\\r...   \n\n                                     doc_description  \\\n0  Detect bad readings in real time using Python ...   \n1  See the forest, see the trees. Here lies the c...   \n2  Here’s this week’s news in Data Science and Bi...   \n3  Learn how distributed DBs solve the problem of...   \n4  This video demonstrates the power of IBM DataS...   \n\n                                       doc_full_name doc_status article_id  \n0  Detect Malfunctioning IoT Sensors with Streami...       Live        0.0  \n1  Communicating data science: A guide to present...       Live        1.0  \n2         This Week in Data Science (April 18, 2017)       Live        2.0  \n3  DataLayer Conference: Boost the performance of...       Live        3.0  \n4      Analyze NY Restaurant data using Spark in DSX       Live        4.0  ",
      "text/html": "<div>\n<style scoped>\n    .dataframe tbody tr th:only-of-type {\n        vertical-align: middle;\n    }\n\n    .dataframe tbody tr th {\n        vertical-align: top;\n    }\n\n    .dataframe thead th {\n        text-align: right;\n    }\n</style>\n<table border=\"1\" class=\"dataframe\">\n  <thead>\n    <tr style=\"text-align: right;\">\n      <th></th>\n      <th>doc_body</th>\n      <th>doc_description</th>\n      <th>doc_full_name</th>\n      <th>doc_status</th>\n      <th>article_id</th>\n    </tr>\n  </thead>\n  <tbody>\n    <tr>\n      <th>0</th>\n      <td>Skip navigation Sign in SearchLoading...\\r\\n\\r...</td>\n      <td>Detect bad readings in real time using Python ...</td>\n      <td>Detect Malfunctioning IoT Sensors with Streami...</td>\n      <td>Live</td>\n      <td>0.0</td>\n    </tr>\n    <tr>\n      <th>1</th>\n      <td>No Free Hunch Navigation * kaggle.com\\r\\n\\r\\n ...</td>\n      <td>See the forest, see the trees. Here lies the c...</td>\n      <td>Communicating data science: A guide to present...</td>\n      <td>Live</td>\n      <td>1.0</td>\n    </tr>\n    <tr>\n      <th>2</th>\n      <td>☰ * Login\\r\\n * Sign Up\\r\\n\\r\\n * Learning Pat...</td>\n      <td>Here’s this week’s news in Data Science and Bi...</td>\n      <td>This Week in Data Science (April 18, 2017)</td>\n      <td>Live</td>\n      <td>2.0</td>\n    </tr>\n    <tr>\n      <th>3</th>\n      <td>DATALAYER: HIGH THROUGHPUT, LOW LATENCY AT SCA...</td>\n      <td>Learn how distributed DBs solve the problem of...</td>\n      <td>DataLayer Conference: Boost the performance of...</td>\n      <td>Live</td>\n      <td>3.0</td>\n    </tr>\n    <tr>\n      <th>4</th>\n      <td>Skip navigation Sign in SearchLoading...\\r\\n\\r...</td>\n      <td>This video demonstrates the power of IBM DataS...</td>\n      <td>Analyze NY Restaurant data using Spark in DSX</td>\n      <td>Live</td>\n      <td>4.0</td>\n    </tr>\n  </tbody>\n</table>\n</div>"
     },
     "execution_count": 15,
     "metadata": {},
     "output_type": "execute_result"
    }
   ],
   "source": [
    "df_content.head()"
   ]
  },
  {
   "cell_type": "code",
   "execution_count": 16,
   "metadata": {
    "pycharm": {
     "name": "#%%\n"
    }
   },
   "outputs": [
    {
     "name": "stdout",
     "output_type": "stream",
     "text": [
      "doc_body: 8606.73\n",
      "doc_description: 170.78\n",
      "doc_full_name: 46.30\n"
     ]
    }
   ],
   "source": [
    "for column in [\"doc_body\", \"doc_description\", \"doc_full_name\"]:\n",
    "    mean_length = df_content[column].str.len().mean()\n",
    "    print(f\"{column}: {mean_length:.2f}\")"
   ]
  },
  {
   "cell_type": "code",
   "execution_count": 17,
   "metadata": {
    "pycharm": {
     "name": "#%%\n"
    }
   },
   "outputs": [
    {
     "data": {
      "text/plain": "                                               doc_body  \\\n206                                                 NaN   \n276                                                 NaN   \n354   The search index lets you create flexible quer...   \n484                                                 NaN   \n508                                                 NaN   \n540                                                 NaN   \n638                                                 NaN   \n667                                                 NaN   \n706                                                 NaN   \n768   Compose The Compose logo Articles Sign in Free...   \n842                                                 NaN   \n876                                                 NaN   \n889                                                 NaN   \n919   Cloudant Query is a powerful declarative JSON ...   \n947                                                 NaN   \n1037                                                NaN   \n1054                                                NaN   \n\n                                        doc_description  \\\n206   Watch how to convert XML data to CSV format to...   \n276   Love to work in Microsoft Excel? Watch how to ...   \n354                                                 NaN   \n484   See how to evaluate and convert your DDL and S...   \n508   Watch how to generate SQL-based reports for Cl...   \n540   Need to move some data to the cloud for wareho...   \n638   See how to create a new dashDB instance and po...   \n667   See how to connect dashDB, as a source and tar...   \n706   Aginity Workbench is a free application known ...   \n768                                                 NaN   \n842   Learn how to configure a dashDB connection in ...   \n876   See how to populate data into a table in your ...   \n889   Watch how to apply association rules using R t...   \n919                                                 NaN   \n947   Watch how to extract and export dashDB data to...   \n1037  See how quick and easy it is to set up a dashD...   \n1054  Learn how to use IBM dashDB as data store for ...   \n\n                                          doc_full_name doc_status article_id  \n206                           Load XML data into dashDB       Live      206.0  \n276                         Integrate dashDB with Excel       Live      276.0  \n354                  Build the search index in Cloudant       Live      354.0  \n484        Convert IBM Puredata for Analytics to dashDB       Live      483.0  \n508    Use dashDB with IBM Embeddable Reporting Service       Live      507.0  \n540                  Convert data from Oracle to dashDB       Live      539.0  \n638        Load JSON from Cloudant database into dashDB       Live      637.0  \n667              Integrate dashDB and Informatica Cloud       Live      666.0  \n706                Use Aginity Workbench for IBM dashDB       Live      704.0  \n768          Announcing the Data Browser for JanusGraph       Live      765.0  \n842     Leverage dashDB in Cognos Business Intelligence       Live      839.0  \n876              Load data from the desktop into dashDB       Live      873.0  \n889   Perform market basket analysis using dashDB and R       Live      886.0  \n919                          Use the new Cloudant query       Live      916.0  \n947        Extract and export dashDB data to a CSV file       Live      944.0  \n1037                 Get started with dashDB on Bluemix       Live     1032.0  \n1054                              Use dashDB with Spark       Live     1049.0  ",
      "text/html": "<div>\n<style scoped>\n    .dataframe tbody tr th:only-of-type {\n        vertical-align: middle;\n    }\n\n    .dataframe tbody tr th {\n        vertical-align: top;\n    }\n\n    .dataframe thead th {\n        text-align: right;\n    }\n</style>\n<table border=\"1\" class=\"dataframe\">\n  <thead>\n    <tr style=\"text-align: right;\">\n      <th></th>\n      <th>doc_body</th>\n      <th>doc_description</th>\n      <th>doc_full_name</th>\n      <th>doc_status</th>\n      <th>article_id</th>\n    </tr>\n  </thead>\n  <tbody>\n    <tr>\n      <th>206</th>\n      <td>NaN</td>\n      <td>Watch how to convert XML data to CSV format to...</td>\n      <td>Load XML data into dashDB</td>\n      <td>Live</td>\n      <td>206.0</td>\n    </tr>\n    <tr>\n      <th>276</th>\n      <td>NaN</td>\n      <td>Love to work in Microsoft Excel? Watch how to ...</td>\n      <td>Integrate dashDB with Excel</td>\n      <td>Live</td>\n      <td>276.0</td>\n    </tr>\n    <tr>\n      <th>354</th>\n      <td>The search index lets you create flexible quer...</td>\n      <td>NaN</td>\n      <td>Build the search index in Cloudant</td>\n      <td>Live</td>\n      <td>354.0</td>\n    </tr>\n    <tr>\n      <th>484</th>\n      <td>NaN</td>\n      <td>See how to evaluate and convert your DDL and S...</td>\n      <td>Convert IBM Puredata for Analytics to dashDB</td>\n      <td>Live</td>\n      <td>483.0</td>\n    </tr>\n    <tr>\n      <th>508</th>\n      <td>NaN</td>\n      <td>Watch how to generate SQL-based reports for Cl...</td>\n      <td>Use dashDB with IBM Embeddable Reporting Service</td>\n      <td>Live</td>\n      <td>507.0</td>\n    </tr>\n    <tr>\n      <th>540</th>\n      <td>NaN</td>\n      <td>Need to move some data to the cloud for wareho...</td>\n      <td>Convert data from Oracle to dashDB</td>\n      <td>Live</td>\n      <td>539.0</td>\n    </tr>\n    <tr>\n      <th>638</th>\n      <td>NaN</td>\n      <td>See how to create a new dashDB instance and po...</td>\n      <td>Load JSON from Cloudant database into dashDB</td>\n      <td>Live</td>\n      <td>637.0</td>\n    </tr>\n    <tr>\n      <th>667</th>\n      <td>NaN</td>\n      <td>See how to connect dashDB, as a source and tar...</td>\n      <td>Integrate dashDB and Informatica Cloud</td>\n      <td>Live</td>\n      <td>666.0</td>\n    </tr>\n    <tr>\n      <th>706</th>\n      <td>NaN</td>\n      <td>Aginity Workbench is a free application known ...</td>\n      <td>Use Aginity Workbench for IBM dashDB</td>\n      <td>Live</td>\n      <td>704.0</td>\n    </tr>\n    <tr>\n      <th>768</th>\n      <td>Compose The Compose logo Articles Sign in Free...</td>\n      <td>NaN</td>\n      <td>Announcing the Data Browser for JanusGraph</td>\n      <td>Live</td>\n      <td>765.0</td>\n    </tr>\n    <tr>\n      <th>842</th>\n      <td>NaN</td>\n      <td>Learn how to configure a dashDB connection in ...</td>\n      <td>Leverage dashDB in Cognos Business Intelligence</td>\n      <td>Live</td>\n      <td>839.0</td>\n    </tr>\n    <tr>\n      <th>876</th>\n      <td>NaN</td>\n      <td>See how to populate data into a table in your ...</td>\n      <td>Load data from the desktop into dashDB</td>\n      <td>Live</td>\n      <td>873.0</td>\n    </tr>\n    <tr>\n      <th>889</th>\n      <td>NaN</td>\n      <td>Watch how to apply association rules using R t...</td>\n      <td>Perform market basket analysis using dashDB and R</td>\n      <td>Live</td>\n      <td>886.0</td>\n    </tr>\n    <tr>\n      <th>919</th>\n      <td>Cloudant Query is a powerful declarative JSON ...</td>\n      <td>NaN</td>\n      <td>Use the new Cloudant query</td>\n      <td>Live</td>\n      <td>916.0</td>\n    </tr>\n    <tr>\n      <th>947</th>\n      <td>NaN</td>\n      <td>Watch how to extract and export dashDB data to...</td>\n      <td>Extract and export dashDB data to a CSV file</td>\n      <td>Live</td>\n      <td>944.0</td>\n    </tr>\n    <tr>\n      <th>1037</th>\n      <td>NaN</td>\n      <td>See how quick and easy it is to set up a dashD...</td>\n      <td>Get started with dashDB on Bluemix</td>\n      <td>Live</td>\n      <td>1032.0</td>\n    </tr>\n    <tr>\n      <th>1054</th>\n      <td>NaN</td>\n      <td>Learn how to use IBM dashDB as data store for ...</td>\n      <td>Use dashDB with Spark</td>\n      <td>Live</td>\n      <td>1049.0</td>\n    </tr>\n  </tbody>\n</table>\n</div>"
     },
     "execution_count": 17,
     "metadata": {},
     "output_type": "execute_result"
    }
   ],
   "source": [
    "df_content[df_content.isna().any(axis=1)]"
   ]
  },
  {
   "cell_type": "code",
   "execution_count": 18,
   "metadata": {
    "collapsed": true,
    "pycharm": {
     "name": "#%%\n"
    }
   },
   "outputs": [
    {
     "data": {
      "text/plain": "                                              doc_body  \\\n365  Follow Sign in / Sign up Home About Insight Da...   \n692  Homepage Follow Sign in / Sign up Homepage * H...   \n761  Homepage Follow Sign in Get started Homepage *...   \n970  This video shows you how to construct queries ...   \n971  Homepage Follow Sign in Get started * Home\\r\\n...   \n\n                                       doc_description  \\\n365  During the seven-week Insight Data Engineering...   \n692  One of the earliest documented catalogs was co...   \n761  Today’s world of data science leverages data f...   \n970  This video shows you how to construct queries ...   \n971  If you are like most data scientists, you are ...   \n\n                                         doc_full_name doc_status article_id  \n365                       Graph-based machine learning       Live       50.0  \n692  How smart catalogs can turn the big data flood...       Live      221.0  \n761  Using Apache Spark as a parallel processing fr...       Live      398.0  \n970                              Use the Primary Index       Live      577.0  \n971  Self-service data preparation with IBM Data Re...       Live      232.0  ",
      "text/html": "<div>\n<style scoped>\n    .dataframe tbody tr th:only-of-type {\n        vertical-align: middle;\n    }\n\n    .dataframe tbody tr th {\n        vertical-align: top;\n    }\n\n    .dataframe thead th {\n        text-align: right;\n    }\n</style>\n<table border=\"1\" class=\"dataframe\">\n  <thead>\n    <tr style=\"text-align: right;\">\n      <th></th>\n      <th>doc_body</th>\n      <th>doc_description</th>\n      <th>doc_full_name</th>\n      <th>doc_status</th>\n      <th>article_id</th>\n    </tr>\n  </thead>\n  <tbody>\n    <tr>\n      <th>365</th>\n      <td>Follow Sign in / Sign up Home About Insight Da...</td>\n      <td>During the seven-week Insight Data Engineering...</td>\n      <td>Graph-based machine learning</td>\n      <td>Live</td>\n      <td>50.0</td>\n    </tr>\n    <tr>\n      <th>692</th>\n      <td>Homepage Follow Sign in / Sign up Homepage * H...</td>\n      <td>One of the earliest documented catalogs was co...</td>\n      <td>How smart catalogs can turn the big data flood...</td>\n      <td>Live</td>\n      <td>221.0</td>\n    </tr>\n    <tr>\n      <th>761</th>\n      <td>Homepage Follow Sign in Get started Homepage *...</td>\n      <td>Today’s world of data science leverages data f...</td>\n      <td>Using Apache Spark as a parallel processing fr...</td>\n      <td>Live</td>\n      <td>398.0</td>\n    </tr>\n    <tr>\n      <th>970</th>\n      <td>This video shows you how to construct queries ...</td>\n      <td>This video shows you how to construct queries ...</td>\n      <td>Use the Primary Index</td>\n      <td>Live</td>\n      <td>577.0</td>\n    </tr>\n    <tr>\n      <th>971</th>\n      <td>Homepage Follow Sign in Get started * Home\\r\\n...</td>\n      <td>If you are like most data scientists, you are ...</td>\n      <td>Self-service data preparation with IBM Data Re...</td>\n      <td>Live</td>\n      <td>232.0</td>\n    </tr>\n  </tbody>\n</table>\n</div>"
     },
     "execution_count": 18,
     "metadata": {},
     "output_type": "execute_result"
    }
   ],
   "source": [
    "# Find and explore duplicate articles\n",
    "duplicates = df_content[df_content.duplicated(subset=[\"article_id\"])]\n",
    "duplicates"
   ]
  },
  {
   "cell_type": "code",
   "execution_count": 19,
   "metadata": {
    "collapsed": true,
    "pycharm": {
     "name": "#%%\n"
    }
   },
   "outputs": [],
   "source": [
    "# Remove any rows that have the same article_id - only keep the first\n",
    "df_content = df_content.drop_duplicates(subset=[\"article_id\"])"
   ]
  },
  {
   "cell_type": "markdown",
   "metadata": {
    "pycharm": {
     "name": "#%% md\n"
    }
   },
   "source": [
    "`3.` Use the cells below to find:\n",
    "\n",
    "**a.** The number of unique articles that have an interaction with a user.  \n",
    "**b.** The number of unique articles in the dataset (whether they have any interactions or not).<br>\n",
    "**c.** The number of unique users in the dataset. (excluding null values) <br>\n",
    "**d.** The number of user-article interactions in the dataset."
   ]
  },
  {
   "cell_type": "code",
   "execution_count": 20,
   "metadata": {
    "collapsed": true,
    "pycharm": {
     "name": "#%%\n"
    }
   },
   "outputs": [],
   "source": [
    "unique_articles = len(df[\"article_id\"].unique())\n",
    "total_articles = len(df_content[\"article_id\"].unique())\n",
    "unique_users = len(df[\"email\"].dropna().unique())\n",
    "user_article_interactions = len(df)"
   ]
  },
  {
   "cell_type": "code",
   "execution_count": 21,
   "metadata": {
    "pycharm": {
     "name": "#%%\n"
    }
   },
   "outputs": [
    {
     "name": "stdout",
     "output_type": "stream",
     "text": [
      "The users interacted with 714 articles.\n",
      "There are 1051 total articles.\n",
      "The users interacted with 67.94% articles.\n",
      "\n",
      "There are 5148 users in the dataset\n",
      "There are 45993 user-article interactions within the dataset.\n"
     ]
    }
   ],
   "source": [
    "print(f\"The users interacted with {unique_articles} articles.\")\n",
    "print(f\"There are {total_articles} total articles.\")\n",
    "print(f\"The users interacted with {unique_articles * 100 / total_articles:.2f}% articles.\\n\")\n",
    "\n",
    "print(f\"There are {unique_users} users in the dataset\")\n",
    "print(f\"There are {user_article_interactions} user-article interactions within the dataset.\")"
   ]
  },
  {
   "cell_type": "markdown",
   "metadata": {
    "pycharm": {
     "name": "#%% md\n"
    }
   },
   "source": [
    "`4.` Use the cells below to find the most viewed **article_id**, as well as how often it was viewed.  After talking to the company leaders, the `email_mapper` function was deemed a reasonable way to map users to ids.  There were a small number of null values, and it was found that all of these null values likely belonged to a single user (which is how they are stored using the function below)."
   ]
  },
  {
   "cell_type": "code",
   "execution_count": 22,
   "metadata": {
    "collapsed": true,
    "pycharm": {
     "name": "#%%\n"
    }
   },
   "outputs": [
    {
     "data": {
      "text/plain": "article_id\n0.0       14\n100.0      9\n1000.0    16\n1004.0     7\n1006.0    14\nName: email, dtype: int64"
     },
     "execution_count": 22,
     "metadata": {},
     "output_type": "execute_result"
    }
   ],
   "source": [
    "article_views_series = filled_na_df.groupby(\"article_id\")[\"email\"].count()\n",
    "article_views_series.head()"
   ]
  },
  {
   "cell_type": "code",
   "execution_count": 23,
   "metadata": {
    "collapsed": true,
    "pycharm": {
     "name": "#%%\n"
    }
   },
   "outputs": [],
   "source": [
    "most_viewed_article_id = str(article_views_series.idxmax())\n",
    "max_views = article_views_series.max()"
   ]
  },
  {
   "cell_type": "code",
   "execution_count": 24,
   "metadata": {
    "collapsed": true,
    "pycharm": {
     "name": "#%%\n"
    }
   },
   "outputs": [
    {
     "data": {
      "text/plain": "  article_id                                              title  user_id\n0     1430.0  using pixiedust for fast, flexible, and easier...        1\n1     1314.0       healthcare python streaming application demo        2\n2     1429.0         use deep learning for image classification        3\n3     1338.0          ml optimization using cognitive assistant        4\n4     1276.0          deploy your python model as a restful api        5",
      "text/html": "<div>\n<style scoped>\n    .dataframe tbody tr th:only-of-type {\n        vertical-align: middle;\n    }\n\n    .dataframe tbody tr th {\n        vertical-align: top;\n    }\n\n    .dataframe thead th {\n        text-align: right;\n    }\n</style>\n<table border=\"1\" class=\"dataframe\">\n  <thead>\n    <tr style=\"text-align: right;\">\n      <th></th>\n      <th>article_id</th>\n      <th>title</th>\n      <th>user_id</th>\n    </tr>\n  </thead>\n  <tbody>\n    <tr>\n      <th>0</th>\n      <td>1430.0</td>\n      <td>using pixiedust for fast, flexible, and easier...</td>\n      <td>1</td>\n    </tr>\n    <tr>\n      <th>1</th>\n      <td>1314.0</td>\n      <td>healthcare python streaming application demo</td>\n      <td>2</td>\n    </tr>\n    <tr>\n      <th>2</th>\n      <td>1429.0</td>\n      <td>use deep learning for image classification</td>\n      <td>3</td>\n    </tr>\n    <tr>\n      <th>3</th>\n      <td>1338.0</td>\n      <td>ml optimization using cognitive assistant</td>\n      <td>4</td>\n    </tr>\n    <tr>\n      <th>4</th>\n      <td>1276.0</td>\n      <td>deploy your python model as a restful api</td>\n      <td>5</td>\n    </tr>\n  </tbody>\n</table>\n</div>"
     },
     "execution_count": 24,
     "metadata": {},
     "output_type": "execute_result"
    }
   ],
   "source": [
    "## No need to change the code here - this will be helpful for later parts of the notebook\n",
    "# Run this cell to map the user email to a user_id column and remove the email column\n",
    "\n",
    "def email_mapper():\n",
    "    coded_dict = dict()\n",
    "    cter = 1\n",
    "    email_encoded = []\n",
    "\n",
    "    for val in df['email']:\n",
    "        if val not in coded_dict:\n",
    "            coded_dict[val] = cter\n",
    "            cter += 1\n",
    "\n",
    "        email_encoded.append(coded_dict[val])\n",
    "\n",
    "    return email_encoded\n",
    "\n",
    "\n",
    "email_encoded = email_mapper()\n",
    "del df['email']\n",
    "df['user_id'] = email_encoded\n",
    "\n",
    "# show header\n",
    "df.head()"
   ]
  },
  {
   "cell_type": "code",
   "execution_count": 25,
   "metadata": {
    "collapsed": true,
    "pycharm": {
     "name": "#%%\n"
    }
   },
   "outputs": [
    {
     "name": "stdout",
     "output_type": "stream",
     "text": [
      "It looks like you have everything right here! Nice job!\n"
     ]
    }
   ],
   "source": [
    "## If you stored all your results in the variable names above, \n",
    "## you shouldn't need to change anything in this cell\n",
    "\n",
    "sol_1_dict = {\n",
    "    '`50% of individuals have _____ or fewer interactions.`': median_val,\n",
    "    '`The total number of user-article interactions in the dataset is ______.`': user_article_interactions,\n",
    "    '`The maximum number of user-article interactions by any 1 user is ______.`': max_views_by_user,\n",
    "    '`The most viewed article in the dataset was viewed _____ times.`': max_views,\n",
    "    '`The article_id of the most viewed article is ______.`': most_viewed_article_id,\n",
    "    '`The number of unique articles that have at least 1 rating ______.`': unique_articles,\n",
    "    '`The number of unique users in the dataset is ______`': unique_users,\n",
    "    '`The number of unique articles on the IBM platform`': total_articles\n",
    "}\n",
    "\n",
    "# Test your dictionary against the solution\n",
    "t.sol_1_test(sol_1_dict)"
   ]
  },
  {
   "cell_type": "markdown",
   "metadata": {
    "pycharm": {
     "name": "#%% md\n"
    }
   },
   "source": [
    "### <a class=\"anchor\" id=\"Rank\">Part II: Rank-Based Recommendations</a>\n",
    "\n",
    "Unlike in the earlier lessons, we don't actually have ratings for whether a user liked an article or not.  We only know that a user has interacted with an article.  In these cases, the popularity of an article can really only be based on how often an article was interacted with.\n",
    "\n",
    "`1.` Fill in the function below to return the **n** top articles ordered with most interactions as the top. Test your function using the tests below."
   ]
  },
  {
   "cell_type": "code",
   "execution_count": 26,
   "metadata": {
    "collapsed": true,
    "pycharm": {
     "name": "#%%\n"
    }
   },
   "outputs": [],
   "source": [
    "def get_top_articles(n, df=df):\n",
    "    '''\n",
    "    INPUT:\n",
    "    n - (int) the number of top articles to return\n",
    "    df - (pandas dataframe) df as defined at the top of the notebook \n",
    "    \n",
    "    OUTPUT:\n",
    "    top_articles - (list) A list of the top 'n' article titles \n",
    "    \n",
    "    '''\n",
    "\n",
    "    top_article_ids = get_top_article_ids(n, df)\n",
    "    top_articles = df[df[\"article_id\"].isin(top_article_ids)]\n",
    "    top_articles = top_articles[[\"article_id\", \"title\"]]\n",
    "    top_articles = top_articles.drop_duplicates()\n",
    "    top_articles = top_articles[\"title\"].tolist()\n",
    "\n",
    "    return top_articles  # Return the top article titles from df (not df_content)\n",
    "\n",
    "\n",
    "def get_top_article_ids(n, df=df):\n",
    "    '''\n",
    "    INPUT:\n",
    "    n - (int) the number of top articles to return\n",
    "    df - (pandas dataframe) df as defined at the top of the notebook \n",
    "    \n",
    "    OUTPUT:\n",
    "    top_articles - (list) A list of the top 'n' article titles \n",
    "    \n",
    "    '''\n",
    "\n",
    "    top_articles = df.groupby(\"article_id\")[\"user_id\"].count().sort_values(ascending=False).iloc[:n]\n",
    "    top_articles = top_articles.index.tolist()\n",
    "\n",
    "    return top_articles  # Return the top article ids"
   ]
  },
  {
   "cell_type": "code",
   "execution_count": 27,
   "metadata": {
    "collapsed": true,
    "pycharm": {
     "name": "#%%\n"
    }
   },
   "outputs": [
    {
     "name": "stdout",
     "output_type": "stream",
     "text": [
      "['healthcare python streaming application demo', 'use deep learning for image classification', 'apache spark lab, part 1: basic concepts', 'predicting churn with the spss random tree algorithm', 'analyze energy consumption in buildings', 'visualize car data with brunel', 'use xgboost, scikit-learn & ibm watson machine learning apis', 'gosales transactions for logistic regression model', 'insights from new york car accident reports', 'finding optimal locations of new store using decision optimization']\n",
      "['1429.0', '1330.0', '1431.0', '1427.0', '1364.0', '1314.0', '1293.0', '1170.0', '1162.0', '1304.0']\n"
     ]
    }
   ],
   "source": [
    "print(get_top_articles(10))\n",
    "print(get_top_article_ids(10))"
   ]
  },
  {
   "cell_type": "code",
   "execution_count": 28,
   "metadata": {
    "collapsed": true,
    "pycharm": {
     "name": "#%%\n"
    }
   },
   "outputs": [
    {
     "name": "stdout",
     "output_type": "stream",
     "text": [
      "Your top_5 looks like the solution list! Nice job.\n",
      "Your top_10 looks like the solution list! Nice job.\n",
      "Your top_20 looks like the solution list! Nice job.\n"
     ]
    }
   ],
   "source": [
    "# Test your function by returning the top 5, 10, and 20 articles\n",
    "top_5 = get_top_articles(5)\n",
    "top_10 = get_top_articles(10)\n",
    "top_20 = get_top_articles(20)\n",
    "\n",
    "# Test each of your three lists from above\n",
    "t.sol_2_test(get_top_articles)"
   ]
  },
  {
   "cell_type": "markdown",
   "metadata": {
    "pycharm": {
     "name": "#%% md\n"
    }
   },
   "source": [
    "### <a class=\"anchor\" id=\"User-User\">Part III: User-User Based Collaborative Filtering</a>\n",
    "\n",
    "\n",
    "`1.` Use the function below to reformat the **df** dataframe to be shaped with users as the rows and articles as the columns.  \n",
    "\n",
    "* Each **user** should only appear in each **row** once.\n",
    "\n",
    "\n",
    "* Each **article** should only show up in one **column**.  \n",
    "\n",
    "\n",
    "* **If a user has interacted with an article, then place a 1 where the user-row meets for that article-column**.  It does not matter how many times a user has interacted with the article, all entries where a user has interacted with an article should be a 1.  \n",
    "\n",
    "\n",
    "* **If a user has not interacted with an item, then place a zero where the user-row meets for that article-column**. \n",
    "\n",
    "Use the tests to make sure the basic structure of your matrix matches what is expected by the solution."
   ]
  },
  {
   "cell_type": "code",
   "execution_count": 29,
   "metadata": {
    "collapsed": true,
    "pycharm": {
     "name": "#%%\n"
    }
   },
   "outputs": [],
   "source": [
    "# create the user-article matrix with 1's and 0's\n",
    "\n",
    "def create_user_item_matrix(df):\n",
    "    '''\n",
    "    INPUT:\n",
    "    df - pandas dataframe with article_id, title, user_id columns\n",
    "    \n",
    "    OUTPUT:\n",
    "    user_item - user item matrix \n",
    "    \n",
    "    Description:\n",
    "    Return a matrix with user ids as rows and article ids on the columns with 1 values where a user interacted with \n",
    "    an article and a 0 otherwise\n",
    "    '''\n",
    "\n",
    "    user_item = df.groupby([\"user_id\", \"article_id\"]).count().unstack()\n",
    "    user_item.columns = user_item.columns.droplevel()\n",
    "    user_item[user_item.notna()] = 1\n",
    "    user_item = user_item.fillna(0)\n",
    "    user_item = user_item.astype(\"int64\")\n",
    "\n",
    "    return user_item  # return the user_item matrix\n",
    "\n",
    "\n",
    "user_item = create_user_item_matrix(df)"
   ]
  },
  {
   "cell_type": "code",
   "execution_count": 30,
   "metadata": {
    "pycharm": {
     "name": "#%%\n"
    }
   },
   "outputs": [
    {
     "data": {
      "text/plain": "article_id  0.0  100.0  1000.0  1004.0  1006.0  1008.0  101.0  1014.0  1015.0  \\\nuser_id                                                                         \n1             0      0       0       0       0       0      0       0       0   \n2             0      0       0       0       0       0      0       0       0   \n3             0      0       0       0       0       0      0       0       0   \n4             0      0       0       0       0       0      0       0       0   \n5             0      0       0       0       0       0      0       0       0   \n\narticle_id  1016.0  ...  977.0  98.0  981.0  984.0  985.0  986.0  990.0  \\\nuser_id             ...                                                   \n1                0  ...      0     0      1      0      0      0      0   \n2                0  ...      0     0      0      0      0      0      0   \n3                0  ...      1     0      0      0      0      0      0   \n4                0  ...      0     0      0      0      0      0      0   \n5                0  ...      0     0      0      0      0      0      0   \n\narticle_id  993.0  996.0  997.0  \nuser_id                          \n1               0      0      0  \n2               0      0      0  \n3               0      0      0  \n4               0      0      0  \n5               0      0      0  \n\n[5 rows x 714 columns]",
      "text/html": "<div>\n<style scoped>\n    .dataframe tbody tr th:only-of-type {\n        vertical-align: middle;\n    }\n\n    .dataframe tbody tr th {\n        vertical-align: top;\n    }\n\n    .dataframe thead th {\n        text-align: right;\n    }\n</style>\n<table border=\"1\" class=\"dataframe\">\n  <thead>\n    <tr style=\"text-align: right;\">\n      <th>article_id</th>\n      <th>0.0</th>\n      <th>100.0</th>\n      <th>1000.0</th>\n      <th>1004.0</th>\n      <th>1006.0</th>\n      <th>1008.0</th>\n      <th>101.0</th>\n      <th>1014.0</th>\n      <th>1015.0</th>\n      <th>1016.0</th>\n      <th>...</th>\n      <th>977.0</th>\n      <th>98.0</th>\n      <th>981.0</th>\n      <th>984.0</th>\n      <th>985.0</th>\n      <th>986.0</th>\n      <th>990.0</th>\n      <th>993.0</th>\n      <th>996.0</th>\n      <th>997.0</th>\n    </tr>\n    <tr>\n      <th>user_id</th>\n      <th></th>\n      <th></th>\n      <th></th>\n      <th></th>\n      <th></th>\n      <th></th>\n      <th></th>\n      <th></th>\n      <th></th>\n      <th></th>\n      <th></th>\n      <th></th>\n      <th></th>\n      <th></th>\n      <th></th>\n      <th></th>\n      <th></th>\n      <th></th>\n      <th></th>\n      <th></th>\n      <th></th>\n    </tr>\n  </thead>\n  <tbody>\n    <tr>\n      <th>1</th>\n      <td>0</td>\n      <td>0</td>\n      <td>0</td>\n      <td>0</td>\n      <td>0</td>\n      <td>0</td>\n      <td>0</td>\n      <td>0</td>\n      <td>0</td>\n      <td>0</td>\n      <td>...</td>\n      <td>0</td>\n      <td>0</td>\n      <td>1</td>\n      <td>0</td>\n      <td>0</td>\n      <td>0</td>\n      <td>0</td>\n      <td>0</td>\n      <td>0</td>\n      <td>0</td>\n    </tr>\n    <tr>\n      <th>2</th>\n      <td>0</td>\n      <td>0</td>\n      <td>0</td>\n      <td>0</td>\n      <td>0</td>\n      <td>0</td>\n      <td>0</td>\n      <td>0</td>\n      <td>0</td>\n      <td>0</td>\n      <td>...</td>\n      <td>0</td>\n      <td>0</td>\n      <td>0</td>\n      <td>0</td>\n      <td>0</td>\n      <td>0</td>\n      <td>0</td>\n      <td>0</td>\n      <td>0</td>\n      <td>0</td>\n    </tr>\n    <tr>\n      <th>3</th>\n      <td>0</td>\n      <td>0</td>\n      <td>0</td>\n      <td>0</td>\n      <td>0</td>\n      <td>0</td>\n      <td>0</td>\n      <td>0</td>\n      <td>0</td>\n      <td>0</td>\n      <td>...</td>\n      <td>1</td>\n      <td>0</td>\n      <td>0</td>\n      <td>0</td>\n      <td>0</td>\n      <td>0</td>\n      <td>0</td>\n      <td>0</td>\n      <td>0</td>\n      <td>0</td>\n    </tr>\n    <tr>\n      <th>4</th>\n      <td>0</td>\n      <td>0</td>\n      <td>0</td>\n      <td>0</td>\n      <td>0</td>\n      <td>0</td>\n      <td>0</td>\n      <td>0</td>\n      <td>0</td>\n      <td>0</td>\n      <td>...</td>\n      <td>0</td>\n      <td>0</td>\n      <td>0</td>\n      <td>0</td>\n      <td>0</td>\n      <td>0</td>\n      <td>0</td>\n      <td>0</td>\n      <td>0</td>\n      <td>0</td>\n    </tr>\n    <tr>\n      <th>5</th>\n      <td>0</td>\n      <td>0</td>\n      <td>0</td>\n      <td>0</td>\n      <td>0</td>\n      <td>0</td>\n      <td>0</td>\n      <td>0</td>\n      <td>0</td>\n      <td>0</td>\n      <td>...</td>\n      <td>0</td>\n      <td>0</td>\n      <td>0</td>\n      <td>0</td>\n      <td>0</td>\n      <td>0</td>\n      <td>0</td>\n      <td>0</td>\n      <td>0</td>\n      <td>0</td>\n    </tr>\n  </tbody>\n</table>\n<p>5 rows × 714 columns</p>\n</div>"
     },
     "execution_count": 30,
     "metadata": {},
     "output_type": "execute_result"
    }
   ],
   "source": [
    "user_item.head()"
   ]
  },
  {
   "cell_type": "code",
   "execution_count": 31,
   "metadata": {
    "collapsed": true,
    "pycharm": {
     "name": "#%%\n"
    }
   },
   "outputs": [
    {
     "name": "stdout",
     "output_type": "stream",
     "text": [
      "You have passed our quick tests!  Please proceed!\n"
     ]
    }
   ],
   "source": [
    "## Tests: You should just need to run this cell.  Don't change the code.\n",
    "assert user_item.shape[0] == 5149, \"Oops!  The number of users in the user-article matrix doesn't look right.\"\n",
    "assert user_item.shape[1] == 714, \"Oops!  The number of articles in the user-article matrix doesn't look right.\"\n",
    "assert user_item.sum(axis=1)[1] == 36, \"Oops!  The number of articles seen by user 1 doesn't look right.\"\n",
    "print(\"You have passed our quick tests!  Please proceed!\")"
   ]
  },
  {
   "cell_type": "markdown",
   "metadata": {
    "pycharm": {
     "name": "#%% md\n"
    }
   },
   "source": [
    "`2.` Complete the function below which should take a user_id and provide an ordered list of the most similar users to that user (from most similar to least similar).  The returned result should not contain the provided user_id, as we know that each user is similar to him/herself. Because the results for each user here are binary, it (perhaps) makes sense to compute similarity as the dot product of two users. \n",
    "\n",
    "Use the tests to test your function."
   ]
  },
  {
   "cell_type": "code",
   "execution_count": 32,
   "metadata": {
    "collapsed": true,
    "pycharm": {
     "name": "#%%\n"
    }
   },
   "outputs": [],
   "source": [
    "def find_similar_users(user_id, user_item=user_item):\n",
    "    '''\n",
    "    INPUT:\n",
    "    user_id - (int) a user_id\n",
    "    user_item - (pandas dataframe) matrix of users by articles: \n",
    "                1's when a user has interacted with an article, 0 otherwise\n",
    "    \n",
    "    OUTPUT:\n",
    "    similar_users - (list) an ordered list where the closest users (largest dot product users)\n",
    "                    are listed first\n",
    "    \n",
    "    Description:\n",
    "    Computes the similarity of every pair of users based on the dot product\n",
    "    Returns an ordered\n",
    "    \n",
    "    '''\n",
    "    # compute similarity of each user to the provided user\n",
    "    current_user_vec = user_item.loc[user_id, :]\n",
    "    current_user_interaction_matrix = user_item @ current_user_vec.T\n",
    "    # remove the own user's id\n",
    "    current_user_interaction_matrix = current_user_interaction_matrix.drop(user_id)\n",
    "\n",
    "    # sort by similarity\n",
    "    most_similar_users = current_user_interaction_matrix.sort_values(ascending=False)\n",
    "\n",
    "    # create list of just the ids\n",
    "    most_similar_users = most_similar_users.index.tolist()\n",
    "\n",
    "    return most_similar_users  # return a list of the users in order from most to least similar\n"
   ]
  },
  {
   "cell_type": "code",
   "execution_count": 33,
   "metadata": {
    "collapsed": true,
    "pycharm": {
     "name": "#%%\n"
    }
   },
   "outputs": [
    {
     "name": "stdout",
     "output_type": "stream",
     "text": [
      "The 10 most similar users to user 1 are: [3933, 23, 3782, 203, 4459, 3870, 131, 46, 4201, 395]\n",
      "The 5 most similar users to user 3933 are: [1, 23, 3782, 4459, 203]\n",
      "The 3 most similar users to user 46 are: [4201, 23, 3782]\n"
     ]
    }
   ],
   "source": [
    "# Do a spot check of your function\n",
    "print(\"The 10 most similar users to user 1 are: {}\".format(find_similar_users(1)[:10]))\n",
    "print(\"The 5 most similar users to user 3933 are: {}\".format(find_similar_users(3933)[:5]))\n",
    "print(\"The 3 most similar users to user 46 are: {}\".format(find_similar_users(46)[:3]))"
   ]
  },
  {
   "cell_type": "markdown",
   "metadata": {
    "pycharm": {
     "name": "#%% md\n"
    }
   },
   "source": [
    "`3.` Now that you have a function that provides the most similar users to each user, you will want to use these users to find articles you can recommend.  Complete the functions below to return the articles you would recommend to each user. "
   ]
  },
  {
   "cell_type": "code",
   "execution_count": 34,
   "metadata": {
    "collapsed": true,
    "pycharm": {
     "name": "#%%\n"
    }
   },
   "outputs": [],
   "source": [
    "def get_article_names(article_ids, df=df):\n",
    "    '''\n",
    "    INPUT:\n",
    "    article_ids - (list) a list of article ids\n",
    "    df - (pandas dataframe) df as defined at the top of the notebook\n",
    "    \n",
    "    OUTPUT:\n",
    "    article_names - (list) a list of article names associated with the list of article ids \n",
    "                    (this is identified by the title column)\n",
    "    '''\n",
    "\n",
    "    article_names = df[df[\"article_id\"].isin(article_ids)]\n",
    "    article_names = article_names[[\"article_id\", \"title\"]]\n",
    "    article_names = article_names.drop_duplicates()\n",
    "    article_names = article_names[\"title\"].tolist()\n",
    "\n",
    "    return article_names  # Return the article names associated with list of article ids\n",
    "\n",
    "\n",
    "def get_user_articles(user_id, user_item=user_item):\n",
    "    '''\n",
    "    INPUT:\n",
    "    user_id - (int) a user id\n",
    "    user_item - (pandas dataframe) matrix of users by articles: \n",
    "                1's when a user has interacted with an article, 0 otherwise\n",
    "    \n",
    "    OUTPUT:\n",
    "    article_ids - (list) a list of the article ids seen by the user\n",
    "    article_name - (list) a list of article names associated with the list of article ids\n",
    "                    (this is identified by the doc_full_name column in df_content)\n",
    "    \n",
    "    Description:\n",
    "    Provides a list of the article_ids and article titles that have been seen by a user\n",
    "    '''\n",
    "\n",
    "    article_ids = user_item.loc[user_id]\n",
    "    article_ids = article_ids[article_ids == 1].index.tolist()\n",
    "    article_names = get_article_names(article_ids)\n",
    "\n",
    "    return article_ids, article_names  # return the ids and names\n",
    "\n",
    "\n",
    "def user_user_recs(user_id, m=10):\n",
    "    '''\n",
    "    INPUT:\n",
    "    user_id - (int) a user id\n",
    "    m - (int) the number of recommendations you want for the user\n",
    "    \n",
    "    OUTPUT:\n",
    "    recs - (list) a list of recommendations for the user\n",
    "    \n",
    "    Description:\n",
    "    Loops through the users based on closeness to the input user_id\n",
    "    For each user - finds articles the user hasn't seen before and provides them as recs\n",
    "    Does this until m recommendations are found\n",
    "    \n",
    "    Notes:\n",
    "    Users who are the same closeness are chosen arbitrarily as the 'next' user\n",
    "    \n",
    "    For the user where the number of recommended articles starts below m \n",
    "    and ends exceeding m, the last items are chosen arbitrarily\n",
    "    \n",
    "    '''\n",
    "\n",
    "    similar_users = find_similar_users(user_id)\n",
    "    seen_movie_ids, _ = get_user_articles(user_id)\n",
    "\n",
    "    recs = np.array([], dtype=\"object\")\n",
    "    for user_id in similar_users:\n",
    "        article_ids, article_names = get_user_articles(user_id)\n",
    "        article_ids = np.setdiff1d(article_ids, seen_movie_ids)\n",
    "\n",
    "        recs = np.append(recs, article_ids, axis=0)\n",
    "        recs = pd.unique(recs)\n",
    "\n",
    "        if len(recs) >= m:\n",
    "            break\n",
    "\n",
    "    recs = recs[:m]\n",
    "    recs = recs.tolist()\n",
    "\n",
    "    return recs  # return your recommendations for this user_id"
   ]
  },
  {
   "cell_type": "code",
   "execution_count": 35,
   "metadata": {
    "collapsed": true,
    "pycharm": {
     "name": "#%%\n"
    }
   },
   "outputs": [
    {
     "data": {
      "text/plain": "['analyze energy consumption in buildings',\n 'analyze accident reports on amazon emr spark',\n '520    using notebooks with pixiedust for fast, flexi...\\nName: title, dtype: object',\n '1448    i ranked every intro to data science course on...\\nName: title, dtype: object',\n 'data tidying in data science experience',\n 'airbnb data for analytics: vancouver listings',\n 'recommender systems: approaches & algorithms',\n 'airbnb data for analytics: mallorca reviews',\n 'analyze facebook data using ibm watson and watson studio',\n 'a tensorflow regression model to predict house values']"
     },
     "execution_count": 35,
     "metadata": {},
     "output_type": "execute_result"
    }
   ],
   "source": [
    "# Check Results\n",
    "get_article_names(user_user_recs(1, 10))  # Return 10 recommendations for user 1"
   ]
  },
  {
   "cell_type": "code",
   "execution_count": 36,
   "metadata": {
    "collapsed": true,
    "pycharm": {
     "name": "#%%\n"
    }
   },
   "outputs": [
    {
     "name": "stdout",
     "output_type": "stream",
     "text": [
      "If this is all you see, you passed all of our tests!  Nice job!\n"
     ]
    }
   ],
   "source": [
    "# Test your functions here - No need to change this code - just run this cell\n",
    "assert set(get_article_names(['1024.0', '1176.0', '1305.0', '1314.0', '1422.0', '1427.0'])) == set(\n",
    "    ['using deep learning to reconstruct high-resolution audio',\n",
    "     'build a python app on the streaming analytics service', 'gosales transactions for naive bayes model',\n",
    "     'healthcare python streaming application demo', 'use r dataframes & ibm watson natural language understanding',\n",
    "     'use xgboost, scikit-learn & ibm watson machine learning apis']), \"Oops! Your the get_article_names function doesn't work quite how we expect.\"\n",
    "assert set(get_article_names(['1320.0', '232.0', '844.0'])) == set(\n",
    "    ['housing (2015): united states demographic measures', 'self-service data preparation with ibm data refinery',\n",
    "     'use the cloudant-spark connector in python notebook']), \"Oops! Your the get_article_names function doesn't work quite how we expect.\"\n",
    "assert set(get_user_articles(20)[0]) == set(['1320.0', '232.0', '844.0'])\n",
    "assert set(get_user_articles(20)[1]) == set(\n",
    "    ['housing (2015): united states demographic measures', 'self-service data preparation with ibm data refinery',\n",
    "     'use the cloudant-spark connector in python notebook'])\n",
    "assert set(get_user_articles(2)[0]) == set(['1024.0', '1176.0', '1305.0', '1314.0', '1422.0', '1427.0'])\n",
    "assert set(get_user_articles(2)[1]) == set(['using deep learning to reconstruct high-resolution audio',\n",
    "                                            'build a python app on the streaming analytics service',\n",
    "                                            'gosales transactions for naive bayes model',\n",
    "                                            'healthcare python streaming application demo',\n",
    "                                            'use r dataframes & ibm watson natural language understanding',\n",
    "                                            'use xgboost, scikit-learn & ibm watson machine learning apis'])\n",
    "print(\"If this is all you see, you passed all of our tests!  Nice job!\")"
   ]
  },
  {
   "cell_type": "markdown",
   "metadata": {
    "pycharm": {
     "name": "#%% md\n"
    }
   },
   "source": [
    "`4.` Now we are going to improve the consistency of the **user_user_recs** function from above.  \n",
    "\n",
    "* Instead of arbitrarily choosing when we obtain users who are all the same closeness to a given user - choose the users that have the most total article interactions before choosing those with fewer article interactions.\n",
    "\n",
    "\n",
    "* Instead of arbitrarily choosing articles from the user where the number of recommended articles starts below m and ends exceeding m, choose articles with the articles with the most total interactions before choosing those with fewer total interactions. This ranking should be  what would be obtained from the **top_articles** function you wrote earlier."
   ]
  },
  {
   "cell_type": "code",
   "execution_count": 37,
   "metadata": {
    "collapsed": true,
    "pycharm": {
     "name": "#%%\n"
    }
   },
   "outputs": [],
   "source": [
    "def get_top_sorted_users(user_id, df=df, user_item=user_item):\n",
    "    '''\n",
    "    INPUT:\n",
    "    user_id - (int)\n",
    "    df - (pandas dataframe) df as defined at the top of the notebook \n",
    "    user_item - (pandas dataframe) matrix of users by articles: \n",
    "            1's when a user has interacted with an article, 0 otherwise\n",
    "    \n",
    "            \n",
    "    OUTPUT:\n",
    "    neighbors_df - (pandas dataframe) a dataframe with:\n",
    "                    neighbor_id - is a neighbor user_id\n",
    "                    similarity - measure of the similarity of each user to the provided user_id\n",
    "                    num_interactions - the number of articles viewed by the user - if a u\n",
    "                    \n",
    "    Other Details - sort the neighbors_df by the similarity and then by number of interactions where \n",
    "                    highest of each is higher in the dataframe\n",
    "     \n",
    "    '''\n",
    "\n",
    "    current_user_vec = user_item.loc[user_id]\n",
    "    similarity_df = user_item @ current_user_vec\n",
    "    similarity_df = similarity_df.drop(user_id)\n",
    "    similarity_df = similarity_df.rename(\"similarity\")\n",
    "    similarity_df = similarity_df.reset_index()\n",
    "\n",
    "    user_articles_views_count = df.groupby(\"user_id\")[\"article_id\"].count().rename(\"num_interactions\").reset_index()\n",
    "    similarity_df = similarity_df.merge(user_articles_views_count, how=\"left\", on=\"user_id\")\n",
    "\n",
    "    neighbors_df = similarity_df.sort_values(by=[\"similarity\", \"num_interactions\"], ascending=False)\n",
    "    neighbors_df = neighbors_df.rename(columns={\"user_id\": \"neighbor_id\"})\n",
    "\n",
    "    return neighbors_df  # Return the dataframe specified in the doc_string\n",
    "\n",
    "\n",
    "def user_user_recs_part2(user_id, m=10):\n",
    "    '''\n",
    "    INPUT:\n",
    "    user_id - (int) a user id\n",
    "    m - (int) the number of recommendations you want for the user\n",
    "    \n",
    "    OUTPUT:\n",
    "    recs - (list) a list of recommendations for the user by article id\n",
    "    rec_names - (list) a list of recommendations for the user by article title\n",
    "    \n",
    "    Description:\n",
    "    Loops through the users based on closeness to the input user_id\n",
    "    For each user - finds articles the user hasn't seen before and provides them as recs\n",
    "    Does this until m recommendations are found\n",
    "    \n",
    "    Notes:\n",
    "    * Choose the users that have the most total article interactions \n",
    "    before choosing those with fewer article interactions.\n",
    "\n",
    "    * Choose articles with the articles with the most total interactions \n",
    "    before choosing those with fewer total interactions. \n",
    "   \n",
    "    '''\n",
    "\n",
    "    similar_users = get_top_sorted_users(user_id)\n",
    "    seen_article_ids, seen_article_names = get_user_articles(user_id)\n",
    "\n",
    "    recs = {\n",
    "        \"article_id\": [],\n",
    "        \"title\": [],\n",
    "    }\n",
    "    for neighbor_data in similar_users.itertuples():\n",
    "        article_ids, article_names = get_user_articles(neighbor_data.neighbor_id)\n",
    "        article_ids, article_names = np.array(article_ids), np.array(article_names)\n",
    "\n",
    "        valid_article_ids = np.where(~np.isin(article_ids, seen_article_ids))[0]\n",
    "        article_ids = article_ids[valid_article_ids]\n",
    "        article_names = article_names[valid_article_ids]\n",
    "\n",
    "        recs[\"article_id\"].extend(article_ids)\n",
    "        recs[\"title\"].extend(article_names)\n",
    "\n",
    "        if len(recs[\"article_id\"]) >= m:\n",
    "            break\n",
    "\n",
    "    if len(recs[\"article_id\"]) > m:\n",
    "        recs = pd.DataFrame(data=recs)\n",
    "        num_article_views = df.groupby(\"article_id\")[\"user_id\"].count().rename(\"num_article_views\").reset_index()\n",
    "        recs = recs.merge(num_article_views, how=\"left\", on=\"article_id\")\n",
    "        recs = recs.sort_values(by=\"num_article_views\", ascending=False)\n",
    "        recs = recs.iloc[:m]\n",
    "\n",
    "        recs = {\n",
    "            \"article_id\": recs[\"article_id\"].values.tolist(),\n",
    "            \"title\": recs[\"title\"].values.tolist()\n",
    "        }\n",
    "\n",
    "    rec_names = recs[\"title\"]\n",
    "    recs = recs[\"article_id\"]\n",
    "\n",
    "    return recs, rec_names"
   ]
  },
  {
   "cell_type": "code",
   "execution_count": 38,
   "metadata": {
    "collapsed": true,
    "pycharm": {
     "name": "#%%\n"
    }
   },
   "outputs": [
    {
     "name": "stdout",
     "output_type": "stream",
     "text": [
      "The top 10 recommendations for user 20 are the following article ids:\n",
      "['1330.0', '1427.0', '1364.0', '1170.0', '1162.0', '1304.0', '1351.0', '1160.0', '1354.0', '1368.0']\n",
      "\n",
      "The top 10 recommendations for user 20 are the following article names:\n",
      "['analyzing data by using the sparkling.data library features', 'super fast string matching in python', 'tensorflow quick tips', 'insights from new york car accident reports', 'uci: sms spam collection', 'model bike sharing data with spss', 'occupation (2015): united states demographic measures', 'apache spark lab, part 3: machine learning', 'using machine learning to predict baseball injuries', 'movie recommender system with spark machine learning']\n"
     ]
    }
   ],
   "source": [
    "# Quick spot check - don't change this code - just use it to test your functions\n",
    "rec_ids, rec_names = user_user_recs_part2(20, 10)\n",
    "print(\"The top 10 recommendations for user 20 are the following article ids:\")\n",
    "print(rec_ids)\n",
    "print()\n",
    "print(\"The top 10 recommendations for user 20 are the following article names:\")\n",
    "print(rec_names)"
   ]
  },
  {
   "cell_type": "markdown",
   "metadata": {
    "pycharm": {
     "name": "#%% md\n"
    }
   },
   "source": [
    "`5.` Use your functions from above to correctly fill in the solutions to the dictionary below.  Then test your dictionary against the solution.  Provide the code you need to answer each following the comments below."
   ]
  },
  {
   "cell_type": "code",
   "execution_count": 39,
   "metadata": {
    "collapsed": true,
    "pycharm": {
     "name": "#%%\n"
    }
   },
   "outputs": [],
   "source": [
    "### Tests with a dictionary of results\n",
    "\n",
    "user1_most_sim = get_top_sorted_users(1).iloc[0][\"neighbor_id\"]  # Find the user that is most similar to user 1\n",
    "user131_10th_sim = get_top_sorted_users(131).iloc[9][\"neighbor_id\"]  # Find the 10th most similar user to user 131"
   ]
  },
  {
   "cell_type": "code",
   "execution_count": 40,
   "metadata": {
    "collapsed": true,
    "pycharm": {
     "name": "#%%\n"
    }
   },
   "outputs": [
    {
     "name": "stdout",
     "output_type": "stream",
     "text": [
      "This all looks good!  Nice job!\n"
     ]
    }
   ],
   "source": [
    "## Dictionary Test Here\n",
    "sol_5_dict = {\n",
    "    'The user that is most similar to user 1.': user1_most_sim,\n",
    "    'The user that is the 10th most similar to user 131': user131_10th_sim,\n",
    "}\n",
    "\n",
    "t.sol_5_test(sol_5_dict)"
   ]
  },
  {
   "cell_type": "markdown",
   "metadata": {
    "pycharm": {
     "name": "#%% md\n"
    }
   },
   "source": [
    "`6.` If we were given a new user, which of the above functions would you be able to use to make recommendations?  Explain.  Can you think of a better way we might make recommendations?  Use the cell below to explain a better method for new users."
   ]
  },
  {
   "cell_type": "markdown",
   "metadata": {
    "pycharm": {
     "name": "#%% md\n"
    }
   },
   "source": [
    "**Unfortunately, we can't build the user-article interaction matrix for new users. The user didn't interact with any article; therefore, the similarity score would be `0` for all the possible neighbors. Thus, we can't use the user-user-based collaborative filtering method we just built in this scenario. With what we have so far, a possible solution is to recommend a list of the top articles within our database. It won't be personalized, but at least it will get some articles validated by the other users. Other suggestions we don't have implemented yet would be adding some `knowledge` to our database. We could do that by asking the user, when he joins the platform, for some topics he might enjoy. Therefore, we could apply some knowledge base techniques to recommend some more personalized content.**"
   ]
  },
  {
   "cell_type": "markdown",
   "metadata": {
    "pycharm": {
     "name": "#%% md\n"
    }
   },
   "source": [
    "`7.` Using your existing functions, provide the top 10 recommended articles you would provide for the a new user below.  You can test your function against our thoughts to make sure we are all on the same page with how we might make a recommendation."
   ]
  },
  {
   "cell_type": "code",
   "execution_count": 41,
   "metadata": {
    "collapsed": true,
    "pycharm": {
     "name": "#%%\n"
    }
   },
   "outputs": [],
   "source": [
    "new_user = '0.0'\n",
    "\n",
    "# What would your recommendations be for this new user '0.0'?  As a new user, they have no observed articles.\n",
    "# Provide a list of the top 10 article ids you would give to \n",
    "new_user_recs = get_top_article_ids(10)\n"
   ]
  },
  {
   "cell_type": "code",
   "execution_count": 42,
   "metadata": {
    "collapsed": true,
    "pycharm": {
     "name": "#%%\n"
    }
   },
   "outputs": [
    {
     "name": "stdout",
     "output_type": "stream",
     "text": [
      "That's right!  Nice job!\n"
     ]
    }
   ],
   "source": [
    "assert set(new_user_recs) == set(\n",
    "    ['1314.0', '1429.0', '1293.0', '1427.0', '1162.0', '1364.0', '1304.0', '1170.0', '1431.0',\n",
    "     '1330.0']), \"Oops!  It makes sense that in this case we would want to recommend the most popular articles, because we don't know anything about these users.\"\n",
    "\n",
    "print(\"That's right!  Nice job!\")"
   ]
  },
  {
   "cell_type": "markdown",
   "source": [
    "### <a class=\"anchor\" id=\"Content-Recs\">Part IV: Content Based Recommendations (EXTRA - NOT REQUIRED)</a>\n",
    "\n",
    "Another method we might use to make recommendations is to perform a ranking of the highest ranked articles associated with some term.  You might consider content to be the **doc_body**, **doc_description**, or **doc_full_name**.  There isn't one way to create a content based recommendation, especially considering that each of these columns hold content related information.\n",
    "\n",
    "`1.` Use the function body below to create a content based recommender.  Since there isn't one right answer for this recommendation tactic, no test functions are provided.  Feel free to change the function inputs if you decide you want to try a method that requires more input values.  The input values are currently set with one idea in mind that you may use to make content based recommendations.  One additional idea is that you might want to choose the most popular recommendations that meet your 'content criteria', but again, there is a lot of flexibility in how you might make these recommendations."
   ],
   "metadata": {
    "collapsed": false,
    "pycharm": {
     "name": "#%% md\n"
    }
   }
  },
  {
   "cell_type": "code",
   "execution_count": 43,
   "outputs": [
    {
     "data": {
      "text/plain": "  article_id                                              title  user_id\n0     1430.0  using pixiedust for fast, flexible, and easier...        1\n1     1314.0       healthcare python streaming application demo        2\n2     1429.0         use deep learning for image classification        3\n3     1338.0          ml optimization using cognitive assistant        4\n4     1276.0          deploy your python model as a restful api        5",
      "text/html": "<div>\n<style scoped>\n    .dataframe tbody tr th:only-of-type {\n        vertical-align: middle;\n    }\n\n    .dataframe tbody tr th {\n        vertical-align: top;\n    }\n\n    .dataframe thead th {\n        text-align: right;\n    }\n</style>\n<table border=\"1\" class=\"dataframe\">\n  <thead>\n    <tr style=\"text-align: right;\">\n      <th></th>\n      <th>article_id</th>\n      <th>title</th>\n      <th>user_id</th>\n    </tr>\n  </thead>\n  <tbody>\n    <tr>\n      <th>0</th>\n      <td>1430.0</td>\n      <td>using pixiedust for fast, flexible, and easier...</td>\n      <td>1</td>\n    </tr>\n    <tr>\n      <th>1</th>\n      <td>1314.0</td>\n      <td>healthcare python streaming application demo</td>\n      <td>2</td>\n    </tr>\n    <tr>\n      <th>2</th>\n      <td>1429.0</td>\n      <td>use deep learning for image classification</td>\n      <td>3</td>\n    </tr>\n    <tr>\n      <th>3</th>\n      <td>1338.0</td>\n      <td>ml optimization using cognitive assistant</td>\n      <td>4</td>\n    </tr>\n    <tr>\n      <th>4</th>\n      <td>1276.0</td>\n      <td>deploy your python model as a restful api</td>\n      <td>5</td>\n    </tr>\n  </tbody>\n</table>\n</div>"
     },
     "execution_count": 43,
     "metadata": {},
     "output_type": "execute_result"
    }
   ],
   "source": [
    "df.head()"
   ],
   "metadata": {
    "collapsed": false,
    "pycharm": {
     "name": "#%%\n"
    }
   }
  },
  {
   "cell_type": "code",
   "execution_count": 44,
   "outputs": [
    {
     "data": {
      "text/plain": "count      45993\nunique       714\ntop       1429.0\nfreq         937\nName: article_id, dtype: object"
     },
     "execution_count": 44,
     "metadata": {},
     "output_type": "execute_result"
    }
   ],
   "source": [
    "df[\"article_id\"].describe()"
   ],
   "metadata": {
    "collapsed": false,
    "pycharm": {
     "name": "#%%\n"
    }
   }
  },
  {
   "cell_type": "code",
   "execution_count": 45,
   "outputs": [
    {
     "data": {
      "text/plain": "                                            doc_body  \\\n0  Skip navigation Sign in SearchLoading...\\r\\n\\r...   \n1  No Free Hunch Navigation * kaggle.com\\r\\n\\r\\n ...   \n2  ☰ * Login\\r\\n * Sign Up\\r\\n\\r\\n * Learning Pat...   \n3  DATALAYER: HIGH THROUGHPUT, LOW LATENCY AT SCA...   \n4  Skip navigation Sign in SearchLoading...\\r\\n\\r...   \n\n                                     doc_description  \\\n0  Detect bad readings in real time using Python ...   \n1  See the forest, see the trees. Here lies the c...   \n2  Here’s this week’s news in Data Science and Bi...   \n3  Learn how distributed DBs solve the problem of...   \n4  This video demonstrates the power of IBM DataS...   \n\n                                       doc_full_name doc_status article_id  \n0  Detect Malfunctioning IoT Sensors with Streami...       Live        0.0  \n1  Communicating data science: A guide to present...       Live        1.0  \n2         This Week in Data Science (April 18, 2017)       Live        2.0  \n3  DataLayer Conference: Boost the performance of...       Live        3.0  \n4      Analyze NY Restaurant data using Spark in DSX       Live        4.0  ",
      "text/html": "<div>\n<style scoped>\n    .dataframe tbody tr th:only-of-type {\n        vertical-align: middle;\n    }\n\n    .dataframe tbody tr th {\n        vertical-align: top;\n    }\n\n    .dataframe thead th {\n        text-align: right;\n    }\n</style>\n<table border=\"1\" class=\"dataframe\">\n  <thead>\n    <tr style=\"text-align: right;\">\n      <th></th>\n      <th>doc_body</th>\n      <th>doc_description</th>\n      <th>doc_full_name</th>\n      <th>doc_status</th>\n      <th>article_id</th>\n    </tr>\n  </thead>\n  <tbody>\n    <tr>\n      <th>0</th>\n      <td>Skip navigation Sign in SearchLoading...\\r\\n\\r...</td>\n      <td>Detect bad readings in real time using Python ...</td>\n      <td>Detect Malfunctioning IoT Sensors with Streami...</td>\n      <td>Live</td>\n      <td>0.0</td>\n    </tr>\n    <tr>\n      <th>1</th>\n      <td>No Free Hunch Navigation * kaggle.com\\r\\n\\r\\n ...</td>\n      <td>See the forest, see the trees. Here lies the c...</td>\n      <td>Communicating data science: A guide to present...</td>\n      <td>Live</td>\n      <td>1.0</td>\n    </tr>\n    <tr>\n      <th>2</th>\n      <td>☰ * Login\\r\\n * Sign Up\\r\\n\\r\\n * Learning Pat...</td>\n      <td>Here’s this week’s news in Data Science and Bi...</td>\n      <td>This Week in Data Science (April 18, 2017)</td>\n      <td>Live</td>\n      <td>2.0</td>\n    </tr>\n    <tr>\n      <th>3</th>\n      <td>DATALAYER: HIGH THROUGHPUT, LOW LATENCY AT SCA...</td>\n      <td>Learn how distributed DBs solve the problem of...</td>\n      <td>DataLayer Conference: Boost the performance of...</td>\n      <td>Live</td>\n      <td>3.0</td>\n    </tr>\n    <tr>\n      <th>4</th>\n      <td>Skip navigation Sign in SearchLoading...\\r\\n\\r...</td>\n      <td>This video demonstrates the power of IBM DataS...</td>\n      <td>Analyze NY Restaurant data using Spark in DSX</td>\n      <td>Live</td>\n      <td>4.0</td>\n    </tr>\n  </tbody>\n</table>\n</div>"
     },
     "execution_count": 45,
     "metadata": {},
     "output_type": "execute_result"
    }
   ],
   "source": [
    "df_content.head()"
   ],
   "metadata": {
    "collapsed": false,
    "pycharm": {
     "name": "#%%\n"
    }
   }
  },
  {
   "cell_type": "code",
   "execution_count": 46,
   "outputs": [
    {
     "data": {
      "text/plain": "count     1051\nunique    1051\ntop        0.0\nfreq         1\nName: article_id, dtype: object"
     },
     "execution_count": 46,
     "metadata": {},
     "output_type": "execute_result"
    }
   ],
   "source": [
    "df_content[\"article_id\"].describe()"
   ],
   "metadata": {
    "collapsed": false,
    "pycharm": {
     "name": "#%%\n"
    }
   }
  },
  {
   "cell_type": "code",
   "execution_count": 47,
   "outputs": [
    {
     "data": {
      "text/plain": "<Figure size 432x288 with 1 Axes>",
      "image/png": "[encoded data removed]"
     },
     "metadata": {
      "needs_background": "light"
     },
     "output_type": "display_data"
    }
   ],
   "source": [
    "df_content[\"doc_status\"].value_counts().plot.bar();"
   ],
   "metadata": {
    "collapsed": false,
    "pycharm": {
     "name": "#%%\n"
    }
   }
  },
  {
   "cell_type": "markdown",
   "source": [
    "Because all the articles are labeled as \"Live\" the \"doc_status\" column is not useful."
   ],
   "metadata": {
    "collapsed": false,
    "pycharm": {
     "name": "#%% md\n"
    }
   }
  },
  {
   "cell_type": "code",
   "execution_count": 48,
   "metadata": {
    "collapsed": true,
    "pycharm": {
     "name": "#%%\n"
    }
   },
   "outputs": [],
   "source": [
    "def tokenize(text):\n",
    "    \"\"\"Function to tokenize an article title\n",
    "\n",
    "    INPUT:\n",
    "        text (str) The text to tokenize.\n",
    "\n",
    "    OUTPUT:\n",
    "        tokens (list) a list of words\n",
    "    \"\"\"\n",
    "\n",
    "    # Normalize.\n",
    "    text = text.lower()\n",
    "    text = re.sub(r\"[^a-zA-Z0-9]\", \" \", text)\n",
    "    url_regex = 'http[s]?://(?:[a-zA-Z]|[0-9]|[$-_@.&+]|[!*\\(\\),]|(?:%[0-9a-fA-F][0-9a-fA-F]))+'\n",
    "    detected_urls = re.findall(url_regex, text)\n",
    "    for url in detected_urls:\n",
    "        text = text.replace(url, \"urlplaceholder\")\n",
    "\n",
    "    # Tokenize.\n",
    "    tokens = word_tokenize(text)\n",
    "\n",
    "    # Clean and lemmatize.\n",
    "    lemmatizer = WordNetLemmatizer()\n",
    "    tokens = [\n",
    "        lemmatizer.lemmatize(word) for word in tokens\n",
    "        if word not in stopwords.words(\"english\")\n",
    "    ]\n",
    "\n",
    "    # To avoid the dimensionality curse, filter all the words with a length less than 2.\n",
    "    tokens = [token for token in tokens if len(token) > 2]\n",
    "\n",
    "    return tokens\n",
    "\n",
    "\n",
    "def create_content_article_matrix(\n",
    "        df_content: pd.DataFrame,\n",
    "        df: pd.DataFrame,\n",
    "        vectorize_column: str = \"doc_full_name\"\n",
    ") -> pd.DataFrame:\n",
    "    # df_content DataFrame does not contain all the articles, therefore where it has missing data add the article title from the df interaction DataFrame.\n",
    "    to_vectorize_df = pd.merge(\n",
    "        df[[\"article_id\", \"title\"]].drop_duplicates(subset=[\"article_id\"]),\n",
    "        df_content[[\"article_id\", vectorize_column]].drop_duplicates(subset=[\"article_id\"]),\n",
    "        how=\"outer\",\n",
    "        on=\"article_id\"\n",
    "    )\n",
    "    to_vectorize_df[vectorize_column] = to_vectorize_df[vectorize_column].fillna(to_vectorize_df[\"title\"])\n",
    "\n",
    "    vectorizer = CountVectorizer(tokenizer=tokenize)\n",
    "    vectorized_data = vectorizer.fit_transform(to_vectorize_df[vectorize_column].values)\n",
    "    vectorized_data = vectorized_data.toarray()\n",
    "    vectorized_data = pd.DataFrame(data=vectorized_data, columns=vectorizer.get_feature_names_out())\n",
    "\n",
    "    article_df = pd.concat([\n",
    "        to_vectorize_df[[\"article_id\"]],\n",
    "        vectorized_data,\n",
    "    ], axis=1)\n",
    "    article_df = article_df.set_index(\"article_id\")\n",
    "\n",
    "    return article_df"
   ]
  },
  {
   "cell_type": "code",
   "execution_count": 49,
   "outputs": [],
   "source": [
    "def get_top_similar_articles(article_id: str, content_article_df: pd.DataFrame, df: pd.DataFrame, minimum_similarity_score: int = 3) -> Tuple[list, list]:\n",
    "    '''\n",
    "    INPUT:\n",
    "        article_id: The article_id to which we want to see the most similar content.\n",
    "        df: DataFrame that contains the raw content information about the articles.\n",
    "        content_article_df: DataFrame that contains the content article vectors.\n",
    "        minimum_similarity_score: The minimum similarity score we accept.\n",
    "\n",
    "    OUTPUT:\n",
    "        A list of n_count recommended articles ids sorted to how similar are relative to article_id.\n",
    "    '''\n",
    "\n",
    "    # If the article is new we cannot make any recommendations.\n",
    "    if article_id not in content_article_df.index:\n",
    "        return [], []\n",
    "\n",
    "    current_article_vec = content_article_df.loc[article_id]\n",
    "    similarities = content_article_df @ current_article_vec\n",
    "    similarities = similarities.drop(article_id)\n",
    "    similarities = similarities.sort_values(ascending=False)\n",
    "    similarities = similarities[similarities >= minimum_similarity_score]\n",
    "\n",
    "    articles_ids = pd.unique(similarities.index).tolist()\n",
    "    articles = get_article_names(articles_ids, df)\n",
    "\n",
    "    return articles_ids, articles\n",
    "\n",
    "\n",
    "def make_content_recs(\n",
    "        user_id: str,\n",
    "        content_article_df: pd.DataFrame,\n",
    "        df: pd.DataFrame,\n",
    "        n_count: int = 10,\n",
    "        minimum_similarity_score: int = 3\n",
    ") -> Tuple[list, list]:\n",
    "    '''\n",
    "    INPUT:\n",
    "        user_id: The user to which we want to recommend content to.\n",
    "        df: DataFrame that contains the raw content information about the articles.\n",
    "        content_article_df: DataFrame that contains the content article vectors.\n",
    "        n_count: The number of articles to recommend.\n",
    "        minimum_similarity_score: The minimum accepted similarity between articles.\n",
    "\n",
    "    OUTPUT:\n",
    "        A list of n_count recommended articles ids sorted to how similar are relative to article_id.\n",
    "    '''\n",
    "\n",
    "    seen_articles_df = df.groupby([\"user_id\", \"article_id\"], as_index=False)[\"title\"].count().rename(columns={\"title\": \"views\"})\n",
    "    seen_articles_df = seen_articles_df[seen_articles_df[\"user_id\"] == user_id]\n",
    "    if len(seen_articles_df) == 0:\n",
    "        return get_top_article_ids(n_count, df), get_top_articles(n_count, df)\n",
    "\n",
    "    seen_articles_df = seen_articles_df.sort_values(by=[\"views\"], ascending=False)\n",
    "    seen_articles_series = seen_articles_df[\"article_id\"]\n",
    "    seen_article_names = get_article_names(seen_articles_series.values, df)\n",
    "\n",
    "    recommendations_ids = []\n",
    "    recommendations = []\n",
    "    for article_id in seen_articles_series:\n",
    "        article_ids, article_names = get_top_similar_articles(\n",
    "            article_id,\n",
    "            content_article_df,\n",
    "            df,\n",
    "            minimum_similarity_score=minimum_similarity_score\n",
    "        )\n",
    "        article_ids = np.setdiff1d(article_ids, seen_articles_series)\n",
    "        article_names = np.setdiff1d(article_names, seen_article_names)\n",
    "\n",
    "        recommendations_ids.extend(article_ids.tolist())\n",
    "        recommendations.extend(article_names.tolist())\n",
    "\n",
    "        if len(recommendations) >= n_count:\n",
    "            break\n",
    "    recommendations = recommendations[:n_count]\n",
    "\n",
    "    return recommendations_ids, recommendations"
   ],
   "metadata": {
    "collapsed": false,
    "pycharm": {
     "name": "#%%\n"
    }
   }
  },
  {
   "cell_type": "code",
   "execution_count": 50,
   "outputs": [
    {
     "data": {
      "text/plain": "            000  100  1000  1854  1948  1983  1985  1990  1995  2003  ...  \\\narticle_id                                                            ...   \n1430.0        0    0     0     0     0     0     0     0     0     0  ...   \n1314.0        0    0     0     0     0     0     0     0     0     0  ...   \n1429.0        0    0     0     0     0     0     0     0     0     0  ...   \n1338.0        0    0     0     0     0     0     0     0     0     0  ...   \n1276.0        0    0     0     0     0     0     0     0     0     0  ...   \n\n            xml2  year  yolo  york  youtube  zapier  zctas  zendesk  zero  zip  \narticle_id                                                                      \n1430.0         0     0     0     0        0       0      0        0     0    0  \n1314.0         0     0     0     0        0       0      0        0     0    0  \n1429.0         0     0     0     0        0       0      0        0     0    0  \n1338.0         0     0     0     0        0       0      0        0     0    0  \n1276.0         0     0     0     0        0       0      0        0     0    0  \n\n[5 rows x 1858 columns]",
      "text/html": "<div>\n<style scoped>\n    .dataframe tbody tr th:only-of-type {\n        vertical-align: middle;\n    }\n\n    .dataframe tbody tr th {\n        vertical-align: top;\n    }\n\n    .dataframe thead th {\n        text-align: right;\n    }\n</style>\n<table border=\"1\" class=\"dataframe\">\n  <thead>\n    <tr style=\"text-align: right;\">\n      <th></th>\n      <th>000</th>\n      <th>100</th>\n      <th>1000</th>\n      <th>1854</th>\n      <th>1948</th>\n      <th>1983</th>\n      <th>1985</th>\n      <th>1990</th>\n      <th>1995</th>\n      <th>2003</th>\n      <th>...</th>\n      <th>xml2</th>\n      <th>year</th>\n      <th>yolo</th>\n      <th>york</th>\n      <th>youtube</th>\n      <th>zapier</th>\n      <th>zctas</th>\n      <th>zendesk</th>\n      <th>zero</th>\n      <th>zip</th>\n    </tr>\n    <tr>\n      <th>article_id</th>\n      <th></th>\n      <th></th>\n      <th></th>\n      <th></th>\n      <th></th>\n      <th></th>\n      <th></th>\n      <th></th>\n      <th></th>\n      <th></th>\n      <th></th>\n      <th></th>\n      <th></th>\n      <th></th>\n      <th></th>\n      <th></th>\n      <th></th>\n      <th></th>\n      <th></th>\n      <th></th>\n      <th></th>\n    </tr>\n  </thead>\n  <tbody>\n    <tr>\n      <th>1430.0</th>\n      <td>0</td>\n      <td>0</td>\n      <td>0</td>\n      <td>0</td>\n      <td>0</td>\n      <td>0</td>\n      <td>0</td>\n      <td>0</td>\n      <td>0</td>\n      <td>0</td>\n      <td>...</td>\n      <td>0</td>\n      <td>0</td>\n      <td>0</td>\n      <td>0</td>\n      <td>0</td>\n      <td>0</td>\n      <td>0</td>\n      <td>0</td>\n      <td>0</td>\n      <td>0</td>\n    </tr>\n    <tr>\n      <th>1314.0</th>\n      <td>0</td>\n      <td>0</td>\n      <td>0</td>\n      <td>0</td>\n      <td>0</td>\n      <td>0</td>\n      <td>0</td>\n      <td>0</td>\n      <td>0</td>\n      <td>0</td>\n      <td>...</td>\n      <td>0</td>\n      <td>0</td>\n      <td>0</td>\n      <td>0</td>\n      <td>0</td>\n      <td>0</td>\n      <td>0</td>\n      <td>0</td>\n      <td>0</td>\n      <td>0</td>\n    </tr>\n    <tr>\n      <th>1429.0</th>\n      <td>0</td>\n      <td>0</td>\n      <td>0</td>\n      <td>0</td>\n      <td>0</td>\n      <td>0</td>\n      <td>0</td>\n      <td>0</td>\n      <td>0</td>\n      <td>0</td>\n      <td>...</td>\n      <td>0</td>\n      <td>0</td>\n      <td>0</td>\n      <td>0</td>\n      <td>0</td>\n      <td>0</td>\n      <td>0</td>\n      <td>0</td>\n      <td>0</td>\n      <td>0</td>\n    </tr>\n    <tr>\n      <th>1338.0</th>\n      <td>0</td>\n      <td>0</td>\n      <td>0</td>\n      <td>0</td>\n      <td>0</td>\n      <td>0</td>\n      <td>0</td>\n      <td>0</td>\n      <td>0</td>\n      <td>0</td>\n      <td>...</td>\n      <td>0</td>\n      <td>0</td>\n      <td>0</td>\n      <td>0</td>\n      <td>0</td>\n      <td>0</td>\n      <td>0</td>\n      <td>0</td>\n      <td>0</td>\n      <td>0</td>\n    </tr>\n    <tr>\n      <th>1276.0</th>\n      <td>0</td>\n      <td>0</td>\n      <td>0</td>\n      <td>0</td>\n      <td>0</td>\n      <td>0</td>\n      <td>0</td>\n      <td>0</td>\n      <td>0</td>\n      <td>0</td>\n      <td>...</td>\n      <td>0</td>\n      <td>0</td>\n      <td>0</td>\n      <td>0</td>\n      <td>0</td>\n      <td>0</td>\n      <td>0</td>\n      <td>0</td>\n      <td>0</td>\n      <td>0</td>\n    </tr>\n  </tbody>\n</table>\n<p>5 rows × 1858 columns</p>\n</div>"
     },
     "execution_count": 50,
     "metadata": {},
     "output_type": "execute_result"
    }
   ],
   "source": [
    "content_article_df = create_content_article_matrix(df_content, df)\n",
    "content_article_df.head()"
   ],
   "metadata": {
    "collapsed": false,
    "pycharm": {
     "name": "#%%\n"
    }
   }
  },
  {
   "cell_type": "markdown",
   "metadata": {
    "pycharm": {
     "name": "#%% md\n"
    }
   },
   "source": [
    "`2.` Now that you have put together your content-based recommendation system, use the cell below to write a summary explaining how your content based recommender works.  Do you see any possible improvements that could be made to your function?  Is there anything novel about your content based recommender?"
   ]
  },
  {
   "cell_type": "markdown",
   "metadata": {
    "pycharm": {
     "name": "#%% md\n"
    }
   },
   "source": [
    "**Firstly, we had to build a content vector for every article. We built a bag of word vectors for all the articles for simplicity. We used the `doc_full_name` column. Also, because in the interaction matrix, there were more articles than in the content matrix, we used the `title` column from the interaction matrix to fill in the missing values. By design, we can easily change the `doc_full_name` to other columns.<br/><br/>After, we iterated through all the articles that a user seen, sorted based on the most viewed ones, and took the first `n` articles that are similar to the viewed content.<br/><br/>For the cold start problem, when a user haven't seen any article, we just recommended the most viewed articles within our data.<br/><br/>We could have augmented the article content vectors by running a pretrained sentiment analysis model or a genre classification model.**"
   ]
  },
  {
   "cell_type": "markdown",
   "metadata": {
    "pycharm": {
     "name": "#%% md\n"
    }
   },
   "source": [
    "`3.` Use your content-recommendation system to make recommendations for the below scenarios based on the comments.  Again no tests are provided here, because there isn't one right answer that could be used to find these content based recommendations."
   ]
  },
  {
   "cell_type": "code",
   "execution_count": 51,
   "outputs": [
    {
     "data": {
      "text/plain": "count    45993.000000\nmean      2300.918314\nstd       1712.658385\nmin          1.000000\n25%        621.000000\n50%       2330.000000\n75%       3835.000000\nmax       5149.000000\nName: user_id, dtype: float64"
     },
     "execution_count": 51,
     "metadata": {},
     "output_type": "execute_result"
    }
   ],
   "source": [
    "# make recommendations for a brand-new user\n",
    "df[\"user_id\"].describe()"
   ],
   "metadata": {
    "collapsed": false,
    "pycharm": {
     "name": "#%%\n"
    }
   }
  },
  {
   "cell_type": "code",
   "execution_count": 52,
   "outputs": [
    {
     "data": {
      "text/plain": "['healthcare python streaming application demo',\n 'use deep learning for image classification',\n 'apache spark lab, part 1: basic concepts',\n 'predicting churn with the spss random tree algorithm',\n 'analyze energy consumption in buildings',\n 'visualize car data with brunel',\n 'use xgboost, scikit-learn & ibm watson machine learning apis',\n 'gosales transactions for logistic regression model',\n 'insights from new york car accident reports',\n 'finding optimal locations of new store using decision optimization']"
     },
     "execution_count": 52,
     "metadata": {},
     "output_type": "execute_result"
    }
   ],
   "source": [
    "make_content_recs(\"100000\", content_article_df, df)[1]"
   ],
   "metadata": {
    "collapsed": false,
    "pycharm": {
     "name": "#%%\n"
    }
   }
  },
  {
   "cell_type": "code",
   "execution_count": 53,
   "metadata": {
    "collapsed": true,
    "pycharm": {
     "name": "#%%\n"
    }
   },
   "outputs": [
    {
     "data": {
      "text/plain": "      article_id                                              title user_id\n0         1430.0  using pixiedust for fast, flexible, and easier...       1\n1         1314.0       healthcare python streaming application demo       2\n2         1429.0         use deep learning for image classification       3\n3         1338.0          ml optimization using cognitive assistant       4\n4         1276.0          deploy your python model as a restful api       5\n...          ...                                                ...     ...\n45990      233.0     bayesian nonparametric models – stats and bots    5147\n45991     1160.0       analyze accident reports on amazon emr spark    5148\n45992       16.0  higher-order logistic regression for large dat...    5149\n42        1427.0  use xgboost, scikit-learn & ibm watson machine...   10000\n53        1427.0  use xgboost, scikit-learn & ibm watson machine...   10000\n\n[45995 rows x 3 columns]",
      "text/html": "<div>\n<style scoped>\n    .dataframe tbody tr th:only-of-type {\n        vertical-align: middle;\n    }\n\n    .dataframe tbody tr th {\n        vertical-align: top;\n    }\n\n    .dataframe thead th {\n        text-align: right;\n    }\n</style>\n<table border=\"1\" class=\"dataframe\">\n  <thead>\n    <tr style=\"text-align: right;\">\n      <th></th>\n      <th>article_id</th>\n      <th>title</th>\n      <th>user_id</th>\n    </tr>\n  </thead>\n  <tbody>\n    <tr>\n      <th>0</th>\n      <td>1430.0</td>\n      <td>using pixiedust for fast, flexible, and easier...</td>\n      <td>1</td>\n    </tr>\n    <tr>\n      <th>1</th>\n      <td>1314.0</td>\n      <td>healthcare python streaming application demo</td>\n      <td>2</td>\n    </tr>\n    <tr>\n      <th>2</th>\n      <td>1429.0</td>\n      <td>use deep learning for image classification</td>\n      <td>3</td>\n    </tr>\n    <tr>\n      <th>3</th>\n      <td>1338.0</td>\n      <td>ml optimization using cognitive assistant</td>\n      <td>4</td>\n    </tr>\n    <tr>\n      <th>4</th>\n      <td>1276.0</td>\n      <td>deploy your python model as a restful api</td>\n      <td>5</td>\n    </tr>\n    <tr>\n      <th>...</th>\n      <td>...</td>\n      <td>...</td>\n      <td>...</td>\n    </tr>\n    <tr>\n      <th>45990</th>\n      <td>233.0</td>\n      <td>bayesian nonparametric models – stats and bots</td>\n      <td>5147</td>\n    </tr>\n    <tr>\n      <th>45991</th>\n      <td>1160.0</td>\n      <td>analyze accident reports on amazon emr spark</td>\n      <td>5148</td>\n    </tr>\n    <tr>\n      <th>45992</th>\n      <td>16.0</td>\n      <td>higher-order logistic regression for large dat...</td>\n      <td>5149</td>\n    </tr>\n    <tr>\n      <th>42</th>\n      <td>1427.0</td>\n      <td>use xgboost, scikit-learn &amp; ibm watson machine...</td>\n      <td>10000</td>\n    </tr>\n    <tr>\n      <th>53</th>\n      <td>1427.0</td>\n      <td>use xgboost, scikit-learn &amp; ibm watson machine...</td>\n      <td>10000</td>\n    </tr>\n  </tbody>\n</table>\n<p>45995 rows × 3 columns</p>\n</div>"
     },
     "execution_count": 53,
     "metadata": {},
     "output_type": "execute_result"
    }
   ],
   "source": [
    "# make a recommendations for a user who only has interacted with article id '1427.0'\n",
    "article_1427_df = df[df[\"article_id\"] == \"1427.0\"].copy()\n",
    "article_1427_df = article_1427_df.iloc[:2]\n",
    "article_1427_df[\"user_id\"] = \"10000\"\n",
    "df_new = pd.concat([df, article_1427_df], axis=0)\n",
    "df_new"
   ]
  },
  {
   "cell_type": "code",
   "execution_count": 54,
   "outputs": [
    {
     "data": {
      "text/plain": "['66855    migration from ibm bluemix data connect api (a...\\nName: title, dtype: object',\n 'analyze facebook data using ibm watson and watson studio',\n 'apple, ibm add machine learning to partnership with watson-core ml coupling',\n 'create a project for watson machine learning in dsx',\n 'ensemble learning to improve machine learning results',\n 'from local spark mllib model to cloud with watson machine learning',\n 'ibm watson machine learning: get started',\n 'python machine learning: scikit-learn tutorial',\n 'style transfer experiments with watson machine learning',\n 'the difference between ai, machine learning, and deep learning?']"
     },
     "execution_count": 54,
     "metadata": {},
     "output_type": "execute_result"
    }
   ],
   "source": [
    "make_content_recs(\"10000\", content_article_df, df_new)[1]"
   ],
   "metadata": {
    "collapsed": false,
    "pycharm": {
     "name": "#%%\n"
    }
   }
  },
  {
   "cell_type": "markdown",
   "metadata": {
    "pycharm": {
     "name": "#%% md\n"
    }
   },
   "source": [
    "### <a class=\"anchor\" id=\"Matrix-Fact\">Part V: Matrix Factorization</a>\n",
    "\n",
    "In this part of the notebook, you will build use matrix factorization to make article recommendations to the users on the IBM Watson Studio platform.\n",
    "\n",
    "`1.` You should have already created a **user_item** matrix above in **question 1** of **Part III** above.  This first question here will just require that you run the cells to get things set up for the rest of **Part V** of the notebook. "
   ]
  },
  {
   "cell_type": "code",
   "execution_count": 55,
   "metadata": {
    "collapsed": true,
    "pycharm": {
     "name": "#%%\n"
    }
   },
   "outputs": [],
   "source": [
    "# Load the matrix here\n",
    "user_item_matrix = pd.read_pickle('./data/user_item_matrix.p')"
   ]
  },
  {
   "cell_type": "code",
   "execution_count": 56,
   "metadata": {
    "collapsed": true,
    "pycharm": {
     "name": "#%%\n"
    }
   },
   "outputs": [
    {
     "data": {
      "text/plain": "article_id  0.0  100.0  1000.0  1004.0  1006.0  1008.0  101.0  1014.0  1015.0  \\\nuser_id                                                                         \n1           0.0    0.0     0.0     0.0     0.0     0.0    0.0     0.0     0.0   \n2           0.0    0.0     0.0     0.0     0.0     0.0    0.0     0.0     0.0   \n3           0.0    0.0     0.0     0.0     0.0     0.0    0.0     0.0     0.0   \n4           0.0    0.0     0.0     0.0     0.0     0.0    0.0     0.0     0.0   \n5           0.0    0.0     0.0     0.0     0.0     0.0    0.0     0.0     0.0   \n\narticle_id  1016.0  ...  977.0  98.0  981.0  984.0  985.0  986.0  990.0  \\\nuser_id             ...                                                   \n1              0.0  ...    0.0   0.0    1.0    0.0    0.0    0.0    0.0   \n2              0.0  ...    0.0   0.0    0.0    0.0    0.0    0.0    0.0   \n3              0.0  ...    1.0   0.0    0.0    0.0    0.0    0.0    0.0   \n4              0.0  ...    0.0   0.0    0.0    0.0    0.0    0.0    0.0   \n5              0.0  ...    0.0   0.0    0.0    0.0    0.0    0.0    0.0   \n\narticle_id  993.0  996.0  997.0  \nuser_id                          \n1             0.0    0.0    0.0  \n2             0.0    0.0    0.0  \n3             0.0    0.0    0.0  \n4             0.0    0.0    0.0  \n5             0.0    0.0    0.0  \n\n[5 rows x 714 columns]",
      "text/html": "<div>\n<style scoped>\n    .dataframe tbody tr th:only-of-type {\n        vertical-align: middle;\n    }\n\n    .dataframe tbody tr th {\n        vertical-align: top;\n    }\n\n    .dataframe thead th {\n        text-align: right;\n    }\n</style>\n<table border=\"1\" class=\"dataframe\">\n  <thead>\n    <tr style=\"text-align: right;\">\n      <th>article_id</th>\n      <th>0.0</th>\n      <th>100.0</th>\n      <th>1000.0</th>\n      <th>1004.0</th>\n      <th>1006.0</th>\n      <th>1008.0</th>\n      <th>101.0</th>\n      <th>1014.0</th>\n      <th>1015.0</th>\n      <th>1016.0</th>\n      <th>...</th>\n      <th>977.0</th>\n      <th>98.0</th>\n      <th>981.0</th>\n      <th>984.0</th>\n      <th>985.0</th>\n      <th>986.0</th>\n      <th>990.0</th>\n      <th>993.0</th>\n      <th>996.0</th>\n      <th>997.0</th>\n    </tr>\n    <tr>\n      <th>user_id</th>\n      <th></th>\n      <th></th>\n      <th></th>\n      <th></th>\n      <th></th>\n      <th></th>\n      <th></th>\n      <th></th>\n      <th></th>\n      <th></th>\n      <th></th>\n      <th></th>\n      <th></th>\n      <th></th>\n      <th></th>\n      <th></th>\n      <th></th>\n      <th></th>\n      <th></th>\n      <th></th>\n      <th></th>\n    </tr>\n  </thead>\n  <tbody>\n    <tr>\n      <th>1</th>\n      <td>0.0</td>\n      <td>0.0</td>\n      <td>0.0</td>\n      <td>0.0</td>\n      <td>0.0</td>\n      <td>0.0</td>\n      <td>0.0</td>\n      <td>0.0</td>\n      <td>0.0</td>\n      <td>0.0</td>\n      <td>...</td>\n      <td>0.0</td>\n      <td>0.0</td>\n      <td>1.0</td>\n      <td>0.0</td>\n      <td>0.0</td>\n      <td>0.0</td>\n      <td>0.0</td>\n      <td>0.0</td>\n      <td>0.0</td>\n      <td>0.0</td>\n    </tr>\n    <tr>\n      <th>2</th>\n      <td>0.0</td>\n      <td>0.0</td>\n      <td>0.0</td>\n      <td>0.0</td>\n      <td>0.0</td>\n      <td>0.0</td>\n      <td>0.0</td>\n      <td>0.0</td>\n      <td>0.0</td>\n      <td>0.0</td>\n      <td>...</td>\n      <td>0.0</td>\n      <td>0.0</td>\n      <td>0.0</td>\n      <td>0.0</td>\n      <td>0.0</td>\n      <td>0.0</td>\n      <td>0.0</td>\n      <td>0.0</td>\n      <td>0.0</td>\n      <td>0.0</td>\n    </tr>\n    <tr>\n      <th>3</th>\n      <td>0.0</td>\n      <td>0.0</td>\n      <td>0.0</td>\n      <td>0.0</td>\n      <td>0.0</td>\n      <td>0.0</td>\n      <td>0.0</td>\n      <td>0.0</td>\n      <td>0.0</td>\n      <td>0.0</td>\n      <td>...</td>\n      <td>1.0</td>\n      <td>0.0</td>\n      <td>0.0</td>\n      <td>0.0</td>\n      <td>0.0</td>\n      <td>0.0</td>\n      <td>0.0</td>\n      <td>0.0</td>\n      <td>0.0</td>\n      <td>0.0</td>\n    </tr>\n    <tr>\n      <th>4</th>\n      <td>0.0</td>\n      <td>0.0</td>\n      <td>0.0</td>\n      <td>0.0</td>\n      <td>0.0</td>\n      <td>0.0</td>\n      <td>0.0</td>\n      <td>0.0</td>\n      <td>0.0</td>\n      <td>0.0</td>\n      <td>...</td>\n      <td>0.0</td>\n      <td>0.0</td>\n      <td>0.0</td>\n      <td>0.0</td>\n      <td>0.0</td>\n      <td>0.0</td>\n      <td>0.0</td>\n      <td>0.0</td>\n      <td>0.0</td>\n      <td>0.0</td>\n    </tr>\n    <tr>\n      <th>5</th>\n      <td>0.0</td>\n      <td>0.0</td>\n      <td>0.0</td>\n      <td>0.0</td>\n      <td>0.0</td>\n      <td>0.0</td>\n      <td>0.0</td>\n      <td>0.0</td>\n      <td>0.0</td>\n      <td>0.0</td>\n      <td>...</td>\n      <td>0.0</td>\n      <td>0.0</td>\n      <td>0.0</td>\n      <td>0.0</td>\n      <td>0.0</td>\n      <td>0.0</td>\n      <td>0.0</td>\n      <td>0.0</td>\n      <td>0.0</td>\n      <td>0.0</td>\n    </tr>\n  </tbody>\n</table>\n<p>5 rows × 714 columns</p>\n</div>"
     },
     "execution_count": 56,
     "metadata": {},
     "output_type": "execute_result"
    }
   ],
   "source": [
    "# quick look at the matrix\n",
    "user_item_matrix.head()"
   ]
  },
  {
   "cell_type": "markdown",
   "metadata": {
    "pycharm": {
     "name": "#%% md\n"
    }
   },
   "source": [
    "`2.` In this situation, you can use Singular Value Decomposition from [numpy](https://docs.scipy.org/doc/numpy-1.14.0/reference/generated/numpy.linalg.svd.html) on the user-item matrix.  Use the cell to perform SVD, and explain why this is different than in the lesson."
   ]
  },
  {
   "cell_type": "code",
   "execution_count": 57,
   "metadata": {
    "collapsed": true,
    "pycharm": {
     "name": "#%%\n"
    }
   },
   "outputs": [],
   "source": [
    "# Perform SVD on the User-Item Matrix Here\n",
    "\n",
    "u, s, vt = np.linalg.svd(user_item_matrix)"
   ]
  },
  {
   "cell_type": "markdown",
   "metadata": {
    "pycharm": {
     "name": "#%% md\n"
    }
   },
   "source": [
    "**We can perform SVD on this user-item matrix because it doesn't contain any NaNs. Because of the user-item interaction nature, this won’t be a problem. If a user interacted with an article, we have a 1, otherwise 0. Ultimately, we don't need to know a specific value from the user (e.g., the review). Therefore, a value will always differ from NaN in the matrix.**"
   ]
  },
  {
   "cell_type": "markdown",
   "metadata": {
    "pycharm": {
     "name": "#%% md\n"
    }
   },
   "source": [
    "`3.` Now for the tricky part, how do we choose the number of latent features to use?  Running the below cell, you can see that as the number of latent features increases, we obtain a lower error rate on making predictions for the 1 and 0 values in the user-item matrix.  Run the cell below to get an idea of how the accuracy improves as we increase the number of latent features."
   ]
  },
  {
   "cell_type": "code",
   "execution_count": 58,
   "metadata": {
    "collapsed": true,
    "pycharm": {
     "name": "#%%\n"
    }
   },
   "outputs": [
    {
     "data": {
      "text/plain": "<Figure size 432x288 with 1 Axes>",
      "image/png": "[encoded data removed]"
     },
     "metadata": {
      "needs_background": "light"
     },
     "output_type": "display_data"
    }
   ],
   "source": [
    "num_latent_feats = np.arange(10, 700 + 10, 20)\n",
    "sum_errs_test = []\n",
    "\n",
    "for k in num_latent_feats:\n",
    "    # restructure with k latent features\n",
    "    s_new_test, u_new_test, vt_new_test = np.diag(s[:k]), u[:, :k], vt[:k, :]\n",
    "\n",
    "    # take dot product\n",
    "    user_item_est = np.around(np.dot(np.dot(u_new_test, s_new_test), vt_new_test))\n",
    "\n",
    "    # compute error for each prediction to actual value\n",
    "    diffs_test = np.subtract(user_item_matrix, user_item_est)\n",
    "\n",
    "    # total errors and keep track of them\n",
    "    err_test = np.sum(np.sum(np.abs(diffs_test)))\n",
    "    sum_errs_test.append(err_test)\n",
    "\n",
    "plt.plot(num_latent_feats, 1 - np.array(sum_errs_test) / df.shape[0])\n",
    "plt.xlabel('Number of Latent Features')\n",
    "plt.ylabel('Accuracy')\n",
    "plt.title('Accuracy vs. Number of Latent Features');"
   ]
  },
  {
   "cell_type": "markdown",
   "metadata": {
    "pycharm": {
     "name": "#%% md\n"
    }
   },
   "source": [
    "`4.` From the above, we can't really be sure how many features to use, because simply having a better way to predict the 1's and 0's of the matrix doesn't exactly give us an indication of if we are able to make good recommendations.  Instead, we might split our dataset into a training and test set of data, as shown in the cell below.  \n",
    "\n",
    "Use the code from question 3 to understand the impact on accuracy of the training and test sets of data with different numbers of latent features. Using the split below: \n",
    "\n",
    "* How many users can we make predictions for in the test set?  \n",
    "* How many users are we not able to make predictions for because of the cold start problem?\n",
    "* How many articles can we make predictions for in the test set?  \n",
    "* How many articles are we not able to make predictions for because of the cold start problem?"
   ]
  },
  {
   "cell_type": "code",
   "execution_count": 59,
   "metadata": {
    "collapsed": true,
    "pycharm": {
     "name": "#%%\n"
    }
   },
   "outputs": [],
   "source": [
    "df_train = df.head(40000)\n",
    "df_test = df.tail(5993)"
   ]
  },
  {
   "cell_type": "code",
   "execution_count": 60,
   "metadata": {
    "pycharm": {
     "name": "#%%\n"
    }
   },
   "outputs": [
    {
     "data": {
      "text/plain": "  article_id                                              title  user_id\n0     1430.0  using pixiedust for fast, flexible, and easier...        1\n1     1314.0       healthcare python streaming application demo        2\n2     1429.0         use deep learning for image classification        3\n3     1338.0          ml optimization using cognitive assistant        4\n4     1276.0          deploy your python model as a restful api        5",
      "text/html": "<div>\n<style scoped>\n    .dataframe tbody tr th:only-of-type {\n        vertical-align: middle;\n    }\n\n    .dataframe tbody tr th {\n        vertical-align: top;\n    }\n\n    .dataframe thead th {\n        text-align: right;\n    }\n</style>\n<table border=\"1\" class=\"dataframe\">\n  <thead>\n    <tr style=\"text-align: right;\">\n      <th></th>\n      <th>article_id</th>\n      <th>title</th>\n      <th>user_id</th>\n    </tr>\n  </thead>\n  <tbody>\n    <tr>\n      <th>0</th>\n      <td>1430.0</td>\n      <td>using pixiedust for fast, flexible, and easier...</td>\n      <td>1</td>\n    </tr>\n    <tr>\n      <th>1</th>\n      <td>1314.0</td>\n      <td>healthcare python streaming application demo</td>\n      <td>2</td>\n    </tr>\n    <tr>\n      <th>2</th>\n      <td>1429.0</td>\n      <td>use deep learning for image classification</td>\n      <td>3</td>\n    </tr>\n    <tr>\n      <th>3</th>\n      <td>1338.0</td>\n      <td>ml optimization using cognitive assistant</td>\n      <td>4</td>\n    </tr>\n    <tr>\n      <th>4</th>\n      <td>1276.0</td>\n      <td>deploy your python model as a restful api</td>\n      <td>5</td>\n    </tr>\n  </tbody>\n</table>\n</div>"
     },
     "execution_count": 60,
     "metadata": {},
     "output_type": "execute_result"
    }
   ],
   "source": [
    "df_train.head()"
   ]
  },
  {
   "cell_type": "code",
   "execution_count": 61,
   "metadata": {
    "pycharm": {
     "name": "#%%\n"
    }
   },
   "outputs": [
    {
     "data": {
      "text/plain": "      article_id                                              title  user_id\n40000     1053.0                           access mysql with python     4487\n40001     1314.0       healthcare python streaming application demo     4487\n40002     1424.0  use spark for python to load data and run sql ...     4487\n40003     1176.0  build a python app on the streaming analytics ...     4487\n40004       58.0                advancements in the spark community     4488",
      "text/html": "<div>\n<style scoped>\n    .dataframe tbody tr th:only-of-type {\n        vertical-align: middle;\n    }\n\n    .dataframe tbody tr th {\n        vertical-align: top;\n    }\n\n    .dataframe thead th {\n        text-align: right;\n    }\n</style>\n<table border=\"1\" class=\"dataframe\">\n  <thead>\n    <tr style=\"text-align: right;\">\n      <th></th>\n      <th>article_id</th>\n      <th>title</th>\n      <th>user_id</th>\n    </tr>\n  </thead>\n  <tbody>\n    <tr>\n      <th>40000</th>\n      <td>1053.0</td>\n      <td>access mysql with python</td>\n      <td>4487</td>\n    </tr>\n    <tr>\n      <th>40001</th>\n      <td>1314.0</td>\n      <td>healthcare python streaming application demo</td>\n      <td>4487</td>\n    </tr>\n    <tr>\n      <th>40002</th>\n      <td>1424.0</td>\n      <td>use spark for python to load data and run sql ...</td>\n      <td>4487</td>\n    </tr>\n    <tr>\n      <th>40003</th>\n      <td>1176.0</td>\n      <td>build a python app on the streaming analytics ...</td>\n      <td>4487</td>\n    </tr>\n    <tr>\n      <th>40004</th>\n      <td>58.0</td>\n      <td>advancements in the spark community</td>\n      <td>4488</td>\n    </tr>\n  </tbody>\n</table>\n</div>"
     },
     "execution_count": 61,
     "metadata": {},
     "output_type": "execute_result"
    }
   ],
   "source": [
    "df_test.head()"
   ]
  },
  {
   "cell_type": "code",
   "execution_count": 62,
   "metadata": {
    "pycharm": {
     "name": "#%%\n"
    }
   },
   "outputs": [],
   "source": [
    "def create_test_and_train_user_item(df_train, df_test):\n",
    "    '''\n",
    "    INPUT:\n",
    "    df_train - training dataframe\n",
    "    df_test - test dataframe\n",
    "\n",
    "    OUTPUT:\n",
    "    user_item_train - a user-item matrix of the training dataframe\n",
    "                      (unique users for each row and unique articles for each column)\n",
    "    user_item_test - a user-item matrix of the testing dataframe\n",
    "                    (unique users for each row and unique articles for each column)\n",
    "    test_idx - all the test user ids\n",
    "    test_arts - all the test article ids\n",
    "\n",
    "    '''\n",
    "\n",
    "    user_item_train = create_user_item_matrix(df_train)\n",
    "    user_item_test = create_user_item_matrix(df_test)\n",
    "\n",
    "    test_idx = user_item_test.index.tolist()\n",
    "    test_arts = user_item_test.columns.tolist()\n",
    "\n",
    "    return user_item_train, user_item_test, test_idx, test_arts\n",
    "\n",
    "\n",
    "def compute_matrix_density(user_item_df: pd.DataFrame) -> float:\n",
    "    \"\"\"\n",
    "    Given a user-item interaction matrix compute the density of the matrix as a percentage.\n",
    "\n",
    "    INPUT\n",
    "    user_item_df - user-item interaction DataFrame\n",
    "\n",
    "    OUTPUT\n",
    "    density - density as a percentage\n",
    "    \"\"\"\n",
    "\n",
    "    num_ones = user_item_df.sum().sum()\n",
    "    num_total = user_item_df.shape[0] * user_item_df.shape[1]\n",
    "    density = num_ones / num_total\n",
    "\n",
    "    return density * 100"
   ]
  },
  {
   "cell_type": "code",
   "execution_count": 63,
   "metadata": {
    "pycharm": {
     "name": "#%%\n"
    }
   },
   "outputs": [],
   "source": [
    "user_item_train, user_item_test, test_idx, test_arts = create_test_and_train_user_item(df_train, df_test)"
   ]
  },
  {
   "cell_type": "code",
   "execution_count": 64,
   "metadata": {
    "pycharm": {
     "name": "#%%\n"
    }
   },
   "outputs": [
    {
     "name": "stdout",
     "output_type": "stream",
     "text": [
      "Total density train matrix: 0.91%\n",
      "Total density test matrix: 1.14%\n"
     ]
    }
   ],
   "source": [
    "print(f\"Total density train matrix: {compute_matrix_density(user_item_train):.2f}%\")\n",
    "print(f\"Total density test matrix: {compute_matrix_density(user_item_test):.2f}%\")"
   ]
  },
  {
   "cell_type": "code",
   "execution_count": 65,
   "metadata": {
    "pycharm": {
     "name": "#%%\n"
    }
   },
   "outputs": [
    {
     "data": {
      "text/plain": "20"
     },
     "execution_count": 65,
     "metadata": {},
     "output_type": "execute_result"
    }
   ],
   "source": [
    "old_users = np.intersect1d(user_item_test.index.values, user_item_train.index.values)\n",
    "len(old_users)"
   ]
  },
  {
   "cell_type": "code",
   "execution_count": 66,
   "metadata": {
    "pycharm": {
     "name": "#%%\n"
    }
   },
   "outputs": [
    {
     "data": {
      "text/plain": "662"
     },
     "execution_count": 66,
     "metadata": {},
     "output_type": "execute_result"
    }
   ],
   "source": [
    "new_users = np.setdiff1d(user_item_test.index.values, user_item_train.index.values)\n",
    "len(new_users)"
   ]
  },
  {
   "cell_type": "code",
   "execution_count": 67,
   "outputs": [
    {
     "data": {
      "text/plain": "574"
     },
     "execution_count": 67,
     "metadata": {},
     "output_type": "execute_result"
    }
   ],
   "source": [
    "old_articles = np.intersect1d(user_item_test.columns.values, user_item_train.columns.values)\n",
    "len(old_articles)"
   ],
   "metadata": {
    "collapsed": false,
    "pycharm": {
     "name": "#%%\n"
    }
   }
  },
  {
   "cell_type": "code",
   "execution_count": 68,
   "metadata": {
    "pycharm": {
     "name": "#%%\n"
    }
   },
   "outputs": [
    {
     "data": {
      "text/plain": "0"
     },
     "execution_count": 68,
     "metadata": {},
     "output_type": "execute_result"
    }
   ],
   "source": [
    "new_articles = np.setdiff1d(user_item_test.columns.values, user_item_train.columns.values)\n",
    "len(new_articles)"
   ]
  },
  {
   "cell_type": "code",
   "execution_count": 69,
   "metadata": {
    "collapsed": true,
    "pycharm": {
     "name": "#%%\n"
    }
   },
   "outputs": [
    {
     "name": "stdout",
     "output_type": "stream",
     "text": [
      "Awesome job!  That's right!  All of the test movies are in the training data, but there are only 20 test users that were also in the training set.  All of the other users that are in the test set we have no data on.  Therefore, we cannot make predictions for these users using SVD.\n"
     ]
    }
   ],
   "source": [
    "# Replace the values in the dictionary below\n",
    "a = 662\n",
    "b = 574\n",
    "c = 20\n",
    "d = 0\n",
    "\n",
    "sol_4_dict = {\n",
    "    'How many users can we make predictions for in the test set?': c,\n",
    "    'How many users in the test set are we not able to make predictions for because of the cold start problem?': a,\n",
    "    'How many movies can we make predictions for in the test set?': b,\n",
    "    'How many movies in the test set are we not able to make predictions for because of the cold start problem?': d\n",
    "}\n",
    "\n",
    "t.sol_4_test(sol_4_dict)"
   ]
  },
  {
   "cell_type": "markdown",
   "metadata": {
    "pycharm": {
     "name": "#%% md\n"
    }
   },
   "source": [
    "`5.` Now use the **user_item_train** dataset from above to find U, S, and V transpose using SVD. Then find the subset of rows in the **user_item_test** dataset that you can predict using this matrix decomposition with different numbers of latent features to see how many features makes sense to keep based on the accuracy on the test data. This will require combining what was done in questions `2` - `4`.\n",
    "\n",
    "Use the cells below to explore how well SVD works towards making predictions for recommendations on the test data.  "
   ]
  },
  {
   "cell_type": "code",
   "execution_count": 70,
   "metadata": {
    "collapsed": true,
    "pycharm": {
     "name": "#%%\n"
    }
   },
   "outputs": [],
   "source": [
    "# fit SVD on the user_item_train matrix\n",
    "u_train, s_train, vt_train = np.linalg.svd(user_item_train)"
   ]
  },
  {
   "cell_type": "code",
   "execution_count": 71,
   "metadata": {
    "pycharm": {
     "name": "#%%\n"
    }
   },
   "outputs": [
    {
     "data": {
      "text/plain": "((4487, 4487), (714,), (714, 714))"
     },
     "execution_count": 71,
     "metadata": {},
     "output_type": "execute_result"
    }
   ],
   "source": [
    "u_train.shape, s_train.shape, vt_train.shape"
   ]
  },
  {
   "cell_type": "code",
   "execution_count": 72,
   "metadata": {
    "pycharm": {
     "name": "#%%\n"
    }
   },
   "outputs": [],
   "source": [
    "# Find train indices for all the test users that we can predict.\n",
    "old_test_users_train_indices = np.where(np.isin(user_item_train.index, old_users))[0]\n",
    "# Find train indices for all the test articles we can predict.\n",
    "old_test_articles_train_indices = np.where(np.isin(user_item_train.columns, old_articles))[0]"
   ]
  },
  {
   "cell_type": "code",
   "execution_count": 73,
   "metadata": {
    "pycharm": {
     "name": "#%%\n"
    }
   },
   "outputs": [],
   "source": [
    "# Keep only test data that is overlapped with the training data (aka old_users and old_articles).\n",
    "old_user_item_test = user_item_test.loc[old_users, old_articles]\n",
    "\n",
    "# Filter the u rows and vt columns that reflect the users and articles that are in the test split.\n",
    "u_train_old_users = u_train[old_test_users_train_indices, :]\n",
    "vt_train_old_articles = vt_train[:, old_test_articles_train_indices]"
   ]
  },
  {
   "cell_type": "code",
   "execution_count": 74,
   "metadata": {
    "collapsed": true,
    "pycharm": {
     "name": "#%%\n"
    }
   },
   "outputs": [
    {
     "data": {
      "text/plain": "<Figure size 432x288 with 1 Axes>",
      "image/png": "[encoded data removed]"
     },
     "metadata": {
      "needs_background": "light"
     },
     "output_type": "display_data"
    }
   ],
   "source": [
    "num_latent_feats = np.arange(10, s_train.shape[0] + 1, 20)\n",
    "\n",
    "sum_errs_train = []\n",
    "sum_errs_test = []\n",
    "for k in num_latent_feats:\n",
    "    # restructure with k latent features\n",
    "    s_new_train, u_new_train, vt_new_train = np.diag(s_train[:k]), u_train[:, :k], vt_train[:k, :]\n",
    "    s_new_test, u_new_test, vt_new_test = np.diag(s_train[:k]), u_train_old_users[:, :k], vt_train_old_articles[:k, :]\n",
    "\n",
    "    # take dot product\n",
    "    user_item_train_est = np.around(np.dot(np.dot(u_new_train, s_new_train), vt_new_train))\n",
    "    user_item_test_est = np.around(np.dot(np.dot(u_new_test, s_new_test), vt_new_test))\n",
    "\n",
    "    # compute error for each prediction to actual value\n",
    "    diffs_train = np.subtract(user_item_train.values, user_item_train_est)\n",
    "    diffs_test = np.subtract(old_user_item_test.values, user_item_test_est)\n",
    "\n",
    "    # total errors and keep track of them\n",
    "    err_train = np.sum(np.sum(np.abs(diffs_train)))\n",
    "    sum_errs_train.append(err_train)\n",
    "\n",
    "    err_test = np.sum(np.sum(np.abs(diffs_test)))\n",
    "    sum_errs_test.append(err_test)\n",
    "\n",
    "sum_errs_train = np.array(sum_errs_train)\n",
    "sum_errs_test = np.array(sum_errs_test)\n",
    "\n",
    "plt.plot(num_latent_feats, 1 - sum_errs_train / (user_item_train.shape[0] * user_item_train.shape[1]), label=\"train\")\n",
    "plt.plot(num_latent_feats, 1 - sum_errs_test / (old_user_item_test.shape[0] * old_user_item_test.shape[1]),\n",
    "         label=\"test\")\n",
    "plt.xlabel('Number of Latent Features')\n",
    "plt.ylabel('Accuracy')\n",
    "plt.title('Accuracy vs. Number of Latent Features')\n",
    "plt.legend();"
   ]
  },
  {
   "cell_type": "code",
   "execution_count": 75,
   "metadata": {
    "pycharm": {
     "name": "#%%\n"
    }
   },
   "outputs": [
    {
     "name": "stdout",
     "output_type": "stream",
     "text": [
      "The number of latent features that ended up with the lowest error are: 10 latent features\n"
     ]
    }
   ],
   "source": [
    "print(\n",
    "    f\"The number of latent features that ended up with the lowest error are: {num_latent_feats[np.argmin(sum_errs_test)]} latent features\")"
   ]
  },
  {
   "cell_type": "markdown",
   "metadata": {
    "collapsed": true,
    "pycharm": {
     "name": "#%% md\n"
    }
   },
   "source": [
    "`6.` Use the cell below to comment on the results you found in the previous question. Given the circumstances of your results, discuss what you might do to determine if the recommendations you make with any of the above recommendation systems are an improvement to how users currently find articles? "
   ]
  },
  {
   "cell_type": "markdown",
   "metadata": {
    "pycharm": {
     "name": "#%% md\n"
    }
   },
   "source": [
    "**As we see in the graph above, the results are degrading as we keep adding latent features. This might occur because of the following factors:<br/>1. A small overlap between the train and test set (only 20 users). Therefore, we can't be sure if the calculated error is truly accurate.<br/>2. As we used a closed-form solution of SVD, we can see in the train-test graph that the algorithm have overfitted the train data. As we keep adding latent features, the values are more overfit on the train data.<br/>3. The density of both matrices is pretty low. Therefore, we have a high imbalance inclined towards 0s. Thus, as we keep adding latent features, the predictions are more biased towards 0.<br/><br/>There are three things that we might do to improve those issues:<br/>1. Create a better train-test split with a higher overlap.<br/> 2. Collect more data. <br/> 3. Use an iterative algorithm like FunkSVD, where we control the bias-variance tradeoff.**"
   ]
  },
  {
   "cell_type": "markdown",
   "metadata": {
    "collapsed": true,
    "pycharm": {
     "name": "#%% md\n"
    }
   },
   "source": [
    "<a id='conclusions'></a>\n",
    "### Extras\n",
    "Using your workbook, you could now save your recommendations for each user, develop a class to make new predictions and update your results, and make a flask app to deploy your results.  These tasks are beyond what is required for this project.  However, from what you learned in the lessons, you certainly capable of taking these tasks on to improve upon your work here!\n",
    "\n",
    "\n",
    "## Conclusion\n",
    "\n",
    "> Congratulations!  You have reached the end of the Recommendations with IBM project!\n",
    "\n",
    "## Directions to Submit\n",
    "\n",
    "> Before you submit your project, you need to create a .html or .pdf version of this notebook in the workspace here. To do that, run the code cell below. If it worked correctly, you should get a return code of 0, and you should see the generated .html file in the workspace directory (click on the orange Jupyter icon in the upper left).\n",
    "\n",
    "> Alternatively, you can download this report as .html via the **File** > **Download as** submenu, and then manually upload it into the workspace directory by clicking on the orange Jupyter icon in the upper left, then using the Upload button.\n",
    "\n",
    "> Once you've done this, you can submit your project by clicking on the \"Submit Project\" button in the lower right here. This will create and submit a zip file with this .ipynb doc and the .html or .pdf version you created. Congratulations!"
   ]
  },
  {
   "cell_type": "code",
   "execution_count": 76,
   "metadata": {
    "collapsed": true,
    "pycharm": {
     "name": "#%%\n"
    }
   },
   "outputs": [
    {
     "name": "stderr",
     "output_type": "stream",
     "text": [
      "Traceback (most recent call last):\n",
      "  File \"/home/iusztin/anaconda3/envs/ibm-assets-recommendation-engine/lib/python3.9/runpy.py\", line 188, in _run_module_as_main\n",
      "    mod_name, mod_spec, code = _get_module_details(mod_name, _Error)\n",
      "  File \"/home/iusztin/anaconda3/envs/ibm-assets-recommendation-engine/lib/python3.9/runpy.py\", line 147, in _get_module_details\n",
      "    return _get_module_details(pkg_main_name, error)\n",
      "  File \"/home/iusztin/anaconda3/envs/ibm-assets-recommendation-engine/lib/python3.9/runpy.py\", line 111, in _get_module_details\n",
      "    __import__(pkg_name)\n",
      "  File \"/home/iusztin/anaconda3/envs/ibm-assets-recommendation-engine/lib/python3.9/site-packages/nbconvert/__init__.py\", line 4, in <module>\n",
      "    from .exporters import *\n",
      "  File \"/home/iusztin/anaconda3/envs/ibm-assets-recommendation-engine/lib/python3.9/site-packages/nbconvert/exporters/__init__.py\", line 3, in <module>\n",
      "    from .html import HTMLExporter\n",
      "  File \"/home/iusztin/anaconda3/envs/ibm-assets-recommendation-engine/lib/python3.9/site-packages/nbconvert/exporters/html.py\", line 25, in <module>\n",
      "    from nbconvert.filters.highlight import Highlight2HTML\n",
      "  File \"/home/iusztin/anaconda3/envs/ibm-assets-recommendation-engine/lib/python3.9/site-packages/nbconvert/filters/__init__.py\", line 6, in <module>\n",
      "    from .markdown import *\n",
      "  File \"/home/iusztin/anaconda3/envs/ibm-assets-recommendation-engine/lib/python3.9/site-packages/nbconvert/filters/markdown.py\", line 13, in <module>\n",
      "    from .markdown_mistune import markdown2html_mistune\n",
      "  File \"/home/iusztin/anaconda3/envs/ibm-assets-recommendation-engine/lib/python3.9/site-packages/nbconvert/filters/markdown_mistune.py\", line 40, in <module>\n",
      "    class MathBlockGrammar(mistune.BlockGrammar):\n",
      "AttributeError: module 'mistune' has no attribute 'BlockGrammar'\n"
     ]
    },
    {
     "data": {
      "text/plain": "1"
     },
     "execution_count": 76,
     "metadata": {},
     "output_type": "execute_result"
    }
   ],
   "source": [
    "from subprocess import call\n",
    "\n",
    "call(['python', '-m', 'nbconvert', 'Recommendations_with_IBM.ipynb'])"
   ]
  }
 ],
 "metadata": {
  "kernelspec": {
   "display_name": "Python 3 (ipykernel)",
   "language": "python",
   "name": "python3"
  },
  "language_info": {
   "codemirror_mode": {
    "name": "ipython",
    "version": 3
   },
   "file_extension": ".py",
   "mimetype": "text/x-python",
   "name": "python",
   "nbconvert_exporter": "python",
   "pygments_lexer": "ipython3",
   "version": "3.8.10"
  }
 },
 "nbformat": 4,
 "nbformat_minor": 2
}